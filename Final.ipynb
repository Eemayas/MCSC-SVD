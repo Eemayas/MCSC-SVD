{
 "cells": [
  {
   "cell_type": "code",
   "execution_count": 1,
   "metadata": {},
   "outputs": [],
   "source": [
    "from PIL import Image\n",
    "import numpy as np\n",
    "import cv2\n"
   ]
  },
  {
   "cell_type": "code",
   "execution_count": 2,
   "metadata": {},
   "outputs": [],
   "source": [
    "# Load the host and watermark images\n",
    "hr_image = Image.open(\"high_resolution_image.jpg\")\n",
    "wm_image = Image.open(\"./ravenLogo.jpg\")\n",
    "\n",
    "# Resize the watermark image to the same size as the host image\n",
    "wm_image_resized = wm_image.resize(hr_image.size)\n",
    "\n",
    "# Convert both images to grayscale\n",
    "hr_image = hr_image.convert(\"L\")\n",
    "wm_image_resized = wm_image_resized.convert(\"L\")\n"
   ]
  },
  {
   "cell_type": "code",
   "execution_count": 3,
   "metadata": {},
   "outputs": [],
   "source": [
    "U_hr, sigma_hr, V_hr = np.linalg.svd(hr_image)"
   ]
  },
  {
   "cell_type": "code",
   "execution_count": 4,
   "metadata": {},
   "outputs": [],
   "source": [
    "U_wm, sigma_wm, V_wm = np.linalg.svd(wm_image_resized)"
   ]
  },
  {
   "cell_type": "code",
   "execution_count": 5,
   "metadata": {},
   "outputs": [
    {
     "data": {
      "text/plain": [
       "array([[ 0.01928185,  0.00605473,  0.00802464, ...,  0.0678824 ,\n",
       "         0.10627277, -0.1544874 ],\n",
       "       [ 0.01928185,  0.00605473,  0.00802464, ...,  0.00225156,\n",
       "         0.00135001,  0.00161912],\n",
       "       [ 0.01928185,  0.00605473,  0.00802464, ..., -0.13639   ,\n",
       "        -0.14160791,  0.07312868],\n",
       "       ...,\n",
       "       [ 0.01928185,  0.00605473,  0.00802464, ..., -0.01847901,\n",
       "         0.01124279, -0.00632762],\n",
       "       [ 0.01928185,  0.00605473,  0.00802464, ...,  0.01471103,\n",
       "        -0.0347995 ,  0.00156111],\n",
       "       [ 0.01928185,  0.00605473,  0.00802464, ...,  0.01473661,\n",
       "        -0.0347757 ,  0.00152805]])"
      ]
     },
     "execution_count": 5,
     "metadata": {},
     "output_type": "execute_result"
    }
   ],
   "source": [
    "U_wm"
   ]
  },
  {
   "cell_type": "code",
   "execution_count": 6,
   "metadata": {},
   "outputs": [],
   "source": [
    "alpha = 0.6\n",
    "sigma_hr_mod = sigma_hr + alpha * sigma_wm"
   ]
  },
  {
   "cell_type": "code",
   "execution_count": 7,
   "metadata": {},
   "outputs": [],
   "source": [
    "hr_image_mod = np.dot(U_hr[:, :sigma_hr_mod.shape[0]], np.dot(np.diag(sigma_hr_mod), V_hr[:sigma_hr_mod.shape[0],:]))"
   ]
  },
  {
   "cell_type": "code",
   "execution_count": 8,
   "metadata": {},
   "outputs": [],
   "source": [
    "hr_image_mod = cv2.normalize(hr_image_mod, None, 0, 255, cv2.NORM_MINMAX, dtype=cv2.CV_8U)"
   ]
  },
  {
   "cell_type": "code",
   "execution_count": 9,
   "metadata": {},
   "outputs": [],
   "source": [
    "img1 = Image.fromarray(hr_image_mod)\n",
    "img1.show()"
   ]
  },
  {
   "cell_type": "code",
   "execution_count": 10,
   "metadata": {},
   "outputs": [],
   "source": [
    "img1.save('output_image.png')"
   ]
  },
  {
   "attachments": {},
   "cell_type": "markdown",
   "metadata": {},
   "source": [
    "\n",
    "# Embedded"
   ]
  },
  {
   "cell_type": "code",
   "execution_count": 11,
   "metadata": {},
   "outputs": [],
   "source": [
    "U_hr_mod1, sigma_hr_mod1, V_hr_mod1 = np.linalg.svd(hr_image_mod)"
   ]
  },
  {
   "cell_type": "code",
   "execution_count": 12,
   "metadata": {},
   "outputs": [],
   "source": [
    "U_hr1, sigma_hr1, V_hr1 = np.linalg.svd(hr_image)"
   ]
  },
  {
   "cell_type": "code",
   "execution_count": 13,
   "metadata": {},
   "outputs": [
    {
     "data": {
      "text/plain": [
       "(array([[1., 0., 0., ..., 0., 0., 0.],\n",
       "        [0., 1., 0., ..., 0., 0., 0.],\n",
       "        [0., 0., 1., ..., 0., 0., 0.],\n",
       "        ...,\n",
       "        [0., 0., 0., ..., 1., 0., 0.],\n",
       "        [0., 0., 0., ..., 0., 1., 0.],\n",
       "        [0., 0., 0., ..., 0., 0., 1.]]),\n",
       " array([0., 0., 0., ..., 0., 0., 0.]),\n",
       " array([[1., 0., 0., ..., 0., 0., 0.],\n",
       "        [0., 1., 0., ..., 0., 0., 0.],\n",
       "        [0., 0., 1., ..., 0., 0., 0.],\n",
       "        ...,\n",
       "        [0., 0., 0., ..., 1., 0., 0.],\n",
       "        [0., 0., 0., ..., 0., 1., 0.],\n",
       "        [0., 0., 0., ..., 0., 0., 1.]]))"
      ]
     },
     "execution_count": 13,
     "metadata": {},
     "output_type": "execute_result"
    }
   ],
   "source": [
    "U_wm1, sigma_wm1, V_wm1 = np.linalg.svd(np.zeros_like(hr_image))\n",
    "U_wm1, sigma_wm1, V_wm1\n"
   ]
  },
  {
   "cell_type": "code",
   "execution_count": 14,
   "metadata": {},
   "outputs": [],
   "source": [
    "sigma_wm_mod = (sigma_hr_mod - sigma_hr) / alpha"
   ]
  },
  {
   "cell_type": "code",
   "execution_count": 15,
   "metadata": {},
   "outputs": [
    {
     "data": {
      "text/plain": [
       "array([9.39330057e+05, 2.88628913e+04, 2.61896397e+04, ...,\n",
       "       4.92169268e-11, 3.03312930e-11, 9.03721542e-12])"
      ]
     },
     "execution_count": 15,
     "metadata": {},
     "output_type": "execute_result"
    }
   ],
   "source": [
    "sigma_wm_mod"
   ]
  },
  {
   "cell_type": "code",
   "execution_count": 16,
   "metadata": {},
   "outputs": [],
   "source": [
    "watermark = np.dot(U_wm[:, :sigma_wm_mod.shape[0]], np.dot(np.diag(sigma_wm_mod), V_wm[:sigma_wm_mod.shape[0],:]))"
   ]
  },
  {
   "cell_type": "code",
   "execution_count": 17,
   "metadata": {},
   "outputs": [],
   "source": [
    "img=Image.fromarray(watermark)\n",
    "img.show()"
   ]
  },
  {
   "cell_type": "code",
   "execution_count": null,
   "metadata": {},
   "outputs": [],
   "source": []
  }
 ],
 "metadata": {
  "kernelspec": {
   "display_name": "Python 3",
   "language": "python",
   "name": "python3"
  },
  "language_info": {
   "codemirror_mode": {
    "name": "ipython",
    "version": 3
   },
   "file_extension": ".py",
   "mimetype": "text/x-python",
   "name": "python",
   "nbconvert_exporter": "python",
   "pygments_lexer": "ipython3",
   "version": "3.11.2"
  },
  "orig_nbformat": 4
 },
 "nbformat": 4,
 "nbformat_minor": 2
}
