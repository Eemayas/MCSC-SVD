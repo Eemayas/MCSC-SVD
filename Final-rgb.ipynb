{
 "cells": [
  {
   "attachments": {},
   "cell_type": "markdown",
   "metadata": {},
   "source": [
    "# Embedding Watermark\n"
   ]
  },
  {
   "cell_type": "code",
   "execution_count": 10,
   "metadata": {},
   "outputs": [],
   "source": [
    "from PIL import Image\n",
    "import numpy as np\n",
    "import cv2"
   ]
  },
  {
   "cell_type": "markdown",
   "metadata": {},
   "source": [
    "### Load the host and watermark images\n"
   ]
  },
  {
   "cell_type": "code",
   "execution_count": 2,
   "metadata": {},
   "outputs": [],
   "source": [
    "hr_image = Image.open(\"host_image.jpg\")\n",
    "wm_image = Image.open(\"./watermark_image.jpg\")"
   ]
  },
  {
   "cell_type": "code",
   "execution_count": 3,
   "metadata": {},
   "outputs": [],
   "source": [
    "# Resize the watermark image to the same size as the host image\n",
    "wm_image_resized = wm_image.resize(hr_image.size)\n",
    "\n",
    "# Convert images to RGB (if not already in that mode)\n",
    "hr_image = hr_image.convert(\"RGB\")\n",
    "wm_image_resized = wm_image_resized.convert(\"RGB\")\n",
    "\n",
    "# Split images into R, G, B channels\n",
    "hr_r, hr_g, hr_b = hr_image.split()\n",
    "wm_r, wm_g, wm_b = wm_image_resized.split()"
   ]
  },
  {
   "cell_type": "code",
   "execution_count": 4,
   "metadata": {},
   "outputs": [
    {
     "data": {
      "text/plain": [
       "(array([[13, 13, 12, ..., 10, 10, 10],\n",
       "        [13, 12, 12, ..., 10,  9, 10],\n",
       "        [13, 12, 12, ..., 10, 10,  9],\n",
       "        ...,\n",
       "        [ 0,  0,  0, ...,  1,  1,  1],\n",
       "        [ 0,  0,  0, ...,  1,  1,  1],\n",
       "        [ 0,  0,  0, ...,  1,  1,  1]], dtype=uint8),\n",
       " array([[19, 19, 18, ..., 43, 43, 42],\n",
       "        [19, 18, 18, ..., 43, 42, 42],\n",
       "        [19, 18, 18, ..., 42, 42, 41],\n",
       "        ...,\n",
       "        [ 0,  0,  0, ...,  7,  7,  7],\n",
       "        [ 0,  0,  0, ...,  7,  7,  7],\n",
       "        [ 0,  0,  0, ...,  7,  7,  7]], dtype=uint8),\n",
       " array([[51, 51, 52, ..., 94, 94, 93],\n",
       "        [51, 50, 52, ..., 94, 93, 93],\n",
       "        [51, 50, 50, ..., 93, 93, 92],\n",
       "        ...,\n",
       "        [ 0,  0,  0, ..., 23, 23, 23],\n",
       "        [ 0,  0,  0, ..., 23, 23, 23],\n",
       "        [ 0,  0,  0, ..., 23, 23, 23]], dtype=uint8))"
      ]
     },
     "execution_count": 4,
     "metadata": {},
     "output_type": "execute_result"
    }
   ],
   "source": [
    "# Convert channels to numpy arrays\n",
    "hr_r = np.array(hr_r)\n",
    "hr_g = np.array(hr_g)\n",
    "hr_b = np.array(hr_b)\n",
    "hr_r, hr_g, hr_b"
   ]
  },
  {
   "cell_type": "code",
   "execution_count": 5,
   "metadata": {},
   "outputs": [
    {
     "data": {
      "text/plain": [
       "(array([[255, 255, 255, ..., 255, 255, 255],\n",
       "        [255, 255, 255, ..., 255, 255, 255],\n",
       "        [255, 255, 255, ..., 255, 255, 255],\n",
       "        ...,\n",
       "        [255, 255, 255, ..., 255, 255, 255],\n",
       "        [255, 255, 255, ..., 255, 255, 255],\n",
       "        [255, 255, 255, ..., 255, 255, 255]], dtype=uint8),\n",
       " array([[255, 255, 255, ..., 255, 255, 255],\n",
       "        [255, 255, 255, ..., 255, 255, 255],\n",
       "        [255, 255, 255, ..., 255, 255, 255],\n",
       "        ...,\n",
       "        [255, 255, 255, ..., 255, 255, 255],\n",
       "        [255, 255, 255, ..., 255, 255, 255],\n",
       "        [255, 255, 255, ..., 255, 255, 255]], dtype=uint8),\n",
       " array([[255, 255, 255, ..., 255, 255, 255],\n",
       "        [255, 255, 255, ..., 255, 255, 255],\n",
       "        [255, 255, 255, ..., 255, 255, 255],\n",
       "        ...,\n",
       "        [255, 255, 255, ..., 255, 255, 255],\n",
       "        [255, 255, 255, ..., 255, 255, 255],\n",
       "        [255, 255, 255, ..., 255, 255, 255]], dtype=uint8))"
      ]
     },
     "execution_count": 5,
     "metadata": {},
     "output_type": "execute_result"
    }
   ],
   "source": [
    "wm_r = np.array(wm_r)\n",
    "wm_g = np.array(wm_g)\n",
    "wm_b = np.array(wm_b)\n",
    "wm_r, wm_g, wm_b"
   ]
  },
  {
   "cell_type": "markdown",
   "metadata": {},
   "source": [
    "### Function to apply SVD and modify singular values\n"
   ]
  },
  {
   "cell_type": "code",
   "execution_count": 6,
   "metadata": {},
   "outputs": [],
   "source": [
    "# Function to apply SVD and modify singular values\n",
    "def embed_watermark(hr_channel, wm_channel, alpha=0.6):\n",
    "    U_hr, sigma_hr, V_hr = np.linalg.svd(hr_channel)\n",
    "    U_wm, sigma_wm, V_wm = np.linalg.svd(wm_channel)\n",
    "\n",
    "    sigma_hr_mod = sigma_hr + alpha * sigma_wm\n",
    "    hr_channel_mod = np.dot(U_hr[:, :sigma_hr_mod.shape[0]], np.dot(\n",
    "        np.diag(sigma_hr_mod), V_hr[:sigma_hr_mod.shape[0], :]))\n",
    "\n",
    "    return hr_channel_mod"
   ]
  },
  {
   "cell_type": "markdown",
   "metadata": {},
   "source": [
    "### Embed watermark in each channel\n"
   ]
  },
  {
   "cell_type": "code",
   "execution_count": 7,
   "metadata": {},
   "outputs": [],
   "source": [
    "hr_r_mod = embed_watermark(hr_r, wm_r)\n",
    "hr_g_mod = embed_watermark(hr_g, wm_g)\n",
    "hr_b_mod = embed_watermark(hr_b, wm_b)"
   ]
  },
  {
   "cell_type": "code",
   "execution_count": 8,
   "metadata": {},
   "outputs": [
    {
     "data": {
      "text/plain": [
       "(array([[15, 15, 14, ...,  6,  6,  6],\n",
       "        [15, 14, 14, ...,  6,  6,  6],\n",
       "        [15, 14, 14, ...,  6,  6,  6],\n",
       "        ...,\n",
       "        [ 2,  2,  3, ...,  1,  1,  1],\n",
       "        [ 2,  3,  3, ...,  1,  1,  1],\n",
       "        [ 2,  2,  3, ...,  1,  1,  1]], dtype=uint8),\n",
       " array([[22, 22, 22, ..., 30, 30, 30],\n",
       "        [22, 22, 22, ..., 30, 30, 30],\n",
       "        [22, 22, 22, ..., 30, 30, 29],\n",
       "        ...,\n",
       "        [ 3,  3,  3, ...,  5,  5,  5],\n",
       "        [ 3,  3,  3, ...,  5,  5,  5],\n",
       "        [ 3,  3,  3, ...,  5,  5,  5]], dtype=uint8),\n",
       " array([[59, 59, 59, ..., 87, 87, 86],\n",
       "        [59, 58, 59, ..., 87, 86, 86],\n",
       "        [59, 58, 58, ..., 86, 86, 86],\n",
       "        ...,\n",
       "        [ 7,  7,  7, ..., 21, 21, 21],\n",
       "        [ 7,  7,  7, ..., 21, 21, 21],\n",
       "        [ 7,  7,  7, ..., 21, 21, 21]], dtype=uint8))"
      ]
     },
     "execution_count": 8,
     "metadata": {},
     "output_type": "execute_result"
    }
   ],
   "source": [
    "# Normalize and convert to uint8\n",
    "hr_r_mod = cv2.normalize(hr_r_mod, None, 0, 255,\n",
    "                         cv2.NORM_MINMAX, dtype=cv2.CV_8U)\n",
    "hr_g_mod = cv2.normalize(hr_g_mod, None, 0, 255,\n",
    "                         cv2.NORM_MINMAX, dtype=cv2.CV_8U)\n",
    "hr_b_mod = cv2.normalize(hr_b_mod, None, 0, 255,\n",
    "                         cv2.NORM_MINMAX, dtype=cv2.CV_8U)\n",
    "hr_r_mod, hr_g_mod, hr_b_mod"
   ]
  },
  {
   "cell_type": "code",
   "execution_count": 9,
   "metadata": {},
   "outputs": [],
   "source": [
    "# Merge modified channels back into an RGB image\n",
    "watermarked_image = Image.merge(\"RGB\", (Image.fromarray(\n",
    "    hr_r_mod), Image.fromarray(hr_g_mod), Image.fromarray(hr_b_mod)))\n",
    "watermarked_image.save('output_image-1.png')\n",
    "watermarked_image.show()"
   ]
  },
  {
   "cell_type": "markdown",
   "metadata": {},
   "source": [
    "# Extraction\n"
   ]
  },
  {
   "cell_type": "code",
   "execution_count": 27,
   "metadata": {},
   "outputs": [],
   "source": [
    "from PIL import Image\n",
    "import numpy as np\n",
    "import cv2\n",
    "# Load the original host and watermarked images\n",
    "hr_image = Image.open(\"host_image.jpg\").convert(\"RGB\")\n",
    "watermarked_image = Image.open(\"output_image-1.png\").convert(\"RGB\")\n",
    "watermarked_image_resized = watermarked_image.resize(hr_image.size)\n",
    "# Split images into R, G, B channels\n",
    "hr_r, hr_g, hr_b = hr_image.split()\n",
    "wm_r, wm_g, wm_b = watermarked_image.split()\n",
    "\n",
    "# Convert channels to numpy arrays\n",
    "hr_r = np.array(hr_r)\n",
    "hr_g = np.array(hr_g)\n",
    "hr_b = np.array(hr_b)\n",
    "\n",
    "wm_r = np.array(wm_r)\n",
    "wm_g = np.array(wm_g)\n",
    "wm_b = np.array(wm_b)"
   ]
  },
  {
   "cell_type": "code",
   "execution_count": 28,
   "metadata": {},
   "outputs": [
    {
     "data": {
      "text/plain": [
       "(2794, 5047)"
      ]
     },
     "execution_count": 28,
     "metadata": {},
     "output_type": "execute_result"
    }
   ],
   "source": [
    "hr_r.shape"
   ]
  },
  {
   "cell_type": "code",
   "execution_count": 35,
   "metadata": {},
   "outputs": [
    {
     "data": {
      "text/plain": [
       "(2794, 5047)"
      ]
     },
     "execution_count": 35,
     "metadata": {},
     "output_type": "execute_result"
    }
   ],
   "source": [
    "wm_r.shape"
   ]
  },
  {
   "cell_type": "code",
   "execution_count": 30,
   "metadata": {},
   "outputs": [
    {
     "data": {
      "text/plain": [
       "(array([[13, 13, 12, ..., 10, 10, 10],\n",
       "        [13, 12, 12, ..., 10,  9, 10],\n",
       "        [13, 12, 12, ..., 10, 10,  9],\n",
       "        ...,\n",
       "        [ 0,  0,  0, ...,  1,  1,  1],\n",
       "        [ 0,  0,  0, ...,  1,  1,  1],\n",
       "        [ 0,  0,  0, ...,  1,  1,  1]], dtype=uint8),\n",
       " array([[19, 19, 18, ..., 43, 43, 42],\n",
       "        [19, 18, 18, ..., 43, 42, 42],\n",
       "        [19, 18, 18, ..., 42, 42, 41],\n",
       "        ...,\n",
       "        [ 0,  0,  0, ...,  7,  7,  7],\n",
       "        [ 0,  0,  0, ...,  7,  7,  7],\n",
       "        [ 0,  0,  0, ...,  7,  7,  7]], dtype=uint8),\n",
       " array([[51, 51, 52, ..., 94, 94, 93],\n",
       "        [51, 50, 52, ..., 94, 93, 93],\n",
       "        [51, 50, 50, ..., 93, 93, 92],\n",
       "        ...,\n",
       "        [ 0,  0,  0, ..., 23, 23, 23],\n",
       "        [ 0,  0,  0, ..., 23, 23, 23],\n",
       "        [ 0,  0,  0, ..., 23, 23, 23]], dtype=uint8))"
      ]
     },
     "execution_count": 30,
     "metadata": {},
     "output_type": "execute_result"
    }
   ],
   "source": [
    "hr_r, hr_g, hr_b"
   ]
  },
  {
   "cell_type": "code",
   "execution_count": 31,
   "metadata": {},
   "outputs": [
    {
     "data": {
      "text/plain": [
       "(array([[15, 15, 14, ...,  6,  6,  6],\n",
       "        [15, 14, 14, ...,  6,  6,  6],\n",
       "        [15, 14, 14, ...,  6,  6,  6],\n",
       "        ...,\n",
       "        [ 2,  2,  3, ...,  1,  1,  1],\n",
       "        [ 2,  3,  3, ...,  1,  1,  1],\n",
       "        [ 2,  2,  3, ...,  1,  1,  1]], dtype=uint8),\n",
       " array([[22, 22, 22, ..., 30, 30, 30],\n",
       "        [22, 22, 22, ..., 30, 30, 30],\n",
       "        [22, 22, 22, ..., 30, 30, 29],\n",
       "        ...,\n",
       "        [ 3,  3,  3, ...,  5,  5,  5],\n",
       "        [ 3,  3,  3, ...,  5,  5,  5],\n",
       "        [ 3,  3,  3, ...,  5,  5,  5]], dtype=uint8),\n",
       " array([[59, 59, 59, ..., 87, 87, 86],\n",
       "        [59, 58, 59, ..., 87, 86, 86],\n",
       "        [59, 58, 58, ..., 86, 86, 86],\n",
       "        ...,\n",
       "        [ 7,  7,  7, ..., 21, 21, 21],\n",
       "        [ 7,  7,  7, ..., 21, 21, 21],\n",
       "        [ 7,  7,  7, ..., 21, 21, 21]], dtype=uint8))"
      ]
     },
     "execution_count": 31,
     "metadata": {},
     "output_type": "execute_result"
    }
   ],
   "source": [
    "wm_r,wm_g,wm_b"
   ]
  },
  {
   "cell_type": "code",
   "execution_count": 32,
   "metadata": {},
   "outputs": [],
   "source": [
    "# U_hr, sigma_hr, V_hr = np.linalg.svd(hr_r)\n",
    "U_hr_mod, sigma_hr_mod, V_hr_mod = np.linalg.svd(wm_r)"
   ]
  },
  {
   "cell_type": "code",
   "execution_count": 40,
   "metadata": {},
   "outputs": [],
   "source": [
    "# Create an identity matrix of the desired shape\n",
    "diagonal_matrix = np.eye(2794, 5047)\n",
    "\n",
    "# Set the diagonal values of the identity matrix to sigma_hr_mod\n",
    "diagonal_matrix[np.arange(2794), np.arange(2794)] = sigma_hr_mod"
   ]
  },
  {
   "cell_type": "code",
   "execution_count": 41,
   "metadata": {},
   "outputs": [
    {
     "data": {
      "text/plain": [
       "array([[ 6.71010958e+05, -2.16666667e+01, -2.00000000e+01, ...,\n",
       "        -1.66666667e+01, -1.66666667e+01, -1.66666667e+01],\n",
       "       [-2.16666667e+01,  8.64224201e+04, -2.00000000e+01, ...,\n",
       "        -1.66666667e+01, -1.50000000e+01, -1.66666667e+01],\n",
       "       [-2.16666667e+01, -2.00000000e+01,  5.91148433e+04, ...,\n",
       "        -1.66666667e+01, -1.66666667e+01, -1.50000000e+01],\n",
       "       ...,\n",
       "       [ 0.00000000e+00,  0.00000000e+00,  0.00000000e+00, ...,\n",
       "        -1.66666667e+00, -1.66666667e+00, -1.66666667e+00],\n",
       "       [ 0.00000000e+00,  0.00000000e+00,  0.00000000e+00, ...,\n",
       "        -1.66666667e+00, -1.66666667e+00, -1.66666667e+00],\n",
       "       [ 0.00000000e+00,  0.00000000e+00,  0.00000000e+00, ...,\n",
       "        -1.66666667e+00, -1.66666667e+00, -1.66666667e+00]])"
      ]
     },
     "execution_count": 41,
     "metadata": {},
     "output_type": "execute_result"
    }
   ],
   "source": [
    "\n",
    "# Calculate watermark singular values\n",
    "sigma_wm = (diagonal_matrix - hr_r) / 0.6\n",
    "sigma_wm\n",
    "# # Step 3: Reconstruct the watermark channel using the estimated singular values\n",
    "# # Choose the same U and V used for watermark embedding (assuming they're same for simplicity)\n",
    "# U_wm, V_wm = U_hr[:sigma_wm.shape[0], :], V_hr_mod[:, :sigma_wm.shape[0]].T\n",
    "\n",
    "# # Reconstruct wm_channel\n",
    "# wm_channel = np.dot(U_wm, np.dot(np.diag(sigma_wm), V_wm))\n"
   ]
  },
  {
   "cell_type": "code",
   "execution_count": 23,
   "metadata": {},
   "outputs": [
    {
     "name": "stdout",
     "output_type": "stream",
     "text": [
      "Watermark extraction complete! Check 'extracted_watermark.png'\n"
     ]
    }
   ],
   "source": [
    "# %% [markdown]\n",
    "# ## Watermark Extraction\n",
    "\n",
    "# This code assumes you have access to the watermarked image \n",
    "# ('output_image-1.png') and the original host image ('host_image.jpg').\n",
    "\n",
    "# %%\n",
    "from PIL import Image\n",
    "import numpy as np\n",
    "import cv2\n",
    "\n",
    "# %%\n",
    "# Load watermarked and host images\n",
    "watermarked_image = Image.open(\"output_image-1.png\")\n",
    "host_image = Image.open(\"host_image.jpg\")\n",
    "\n",
    "# Convert images to RGB (if not already in that mode)\n",
    "watermarked_image = watermarked_image.convert(\"RGB\")\n",
    "host_image = host_image.convert(\"RGB\")\n",
    "\n",
    "# Split images into R, G, B channels\n",
    "watermarked_r, watermarked_g, watermarked_b = watermarked_image.split()\n",
    "host_r, host_g, host_b = host_image.split()\n",
    "\n",
    "# %%\n",
    "# Convert channels to numpy arrays\n",
    "watermarked_r = np.array(watermarked_r)\n",
    "watermarked_g = np.array(watermarked_g)\n",
    "watermarked_b = np.array(watermarked_b)\n",
    "host_r = np.array(host_r)\n",
    "host_g = np.array(host_g)\n",
    "host_b = np.array(host_b)\n",
    "\n",
    "# %%\n",
    "# Function to apply SVD and extract watermark\n",
    "\n",
    "def extract_watermark(watermarked_channel, host_channel, alpha=0.6):\n",
    "  \"\"\"\n",
    "  This function extracts the watermark from a watermarked channel.\n",
    "\n",
    "  Args:\n",
    "      watermarked_channel: The watermarked channel (numpy array).\n",
    "      host_channel: The corresponding channel from the host image (numpy array).\n",
    "      alpha: The alpha value used during embedding (default=0.6).\n",
    "\n",
    "  Returns:\n",
    "      watermark_estimate: The estimated watermark channel (numpy array).\n",
    "  \"\"\"\n",
    "  U_wm, sigma_wm, V_wm = np.linalg.svd(watermarked_channel)\n",
    "  U_host, sigma_host, V_host = np.linalg.svd(host_channel)\n",
    "\n",
    "  # Estimate watermark singular values\n",
    "  sigma_watermark_estimate = sigma_wm - alpha * sigma_host\n",
    "\n",
    "  # Reconstruct watermark using estimated singular values\n",
    "  watermark_estimate = np.dot(U_wm[:, :sigma_watermark_estimate.shape[0]], \n",
    "                             np.dot(np.diag(sigma_watermark_estimate), V_wm[:sigma_watermark_estimate.shape[0], :]))\n",
    "  \n",
    "  return watermark_estimate\n",
    "\n",
    "# %%\n",
    "# Extract watermark from each channel\n",
    "watermark_r_estimate = extract_watermark(watermarked_r, host_r)\n",
    "watermark_g_estimate = extract_watermark(watermarked_g, host_g)\n",
    "watermark_b_estimate = extract_watermark(watermarked_b, host_b)\n",
    "\n",
    "# %%\n",
    "# Normalize and convert to uint8 (might require adjustments based on watermark properties)\n",
    "watermark_r_estimate = cv2.normalize(watermark_r_estimate, None, 0, 255, cv2.NORM_MINMAX, dtype=cv2.CV_8U)\n",
    "watermark_g_estimate = cv2.normalize(watermark_g_estimate, None, 0, 255, cv2.NORM_MINMAX, dtype=cv2.CV_8U)\n",
    "watermark_b_estimate = cv2.normalize(watermark_b_estimate, None, 0, 255, cv2.NORM_MINMAX, dtype=cv2.CV_8U)\n",
    "\n",
    "# Merge estimated watermark channels\n",
    "estimated_watermark = Image.merge(\"RGB\", (Image.fromarray(watermark_r_estimate), \n",
    "                                          Image.fromarray(watermark_g_estimate), \n",
    "                                          Image.fromarray(watermark_b_estimate)))\n",
    "\n",
    "# Save and potentially display the estimated watermark\n",
    "estimated_watermark.save(\"extracted_watermark.png\")\n",
    "# estimated_watermark.show()  # Uncomment to display the estimated watermark\n",
    "\n",
    "print(\"Watermark extraction complete! Check 'extracted_watermark.png'\")"
   ]
  },
  {
   "cell_type": "code",
   "execution_count": 24,
   "metadata": {},
   "outputs": [
    {
     "ename": "KeyboardInterrupt",
     "evalue": "",
     "output_type": "error",
     "traceback": [
      "\u001b[1;31m---------------------------------------------------------------------------\u001b[0m",
      "\u001b[1;31mKeyboardInterrupt\u001b[0m                         Traceback (most recent call last)",
      "Cell \u001b[1;32mIn[24], line 1\u001b[0m\n\u001b[1;32m----> 1\u001b[0m \u001b[38;5;28;01mfrom\u001b[39;00m \u001b[38;5;21;01mPIL\u001b[39;00m \u001b[38;5;28;01mimport\u001b[39;00m Image\n\u001b[0;32m      2\u001b[0m \u001b[38;5;28;01mimport\u001b[39;00m \u001b[38;5;21;01mnumpy\u001b[39;00m \u001b[38;5;28;01mas\u001b[39;00m \u001b[38;5;21;01mnp\u001b[39;00m\n\u001b[0;32m      3\u001b[0m \u001b[38;5;28;01mimport\u001b[39;00m \u001b[38;5;21;01mcv2\u001b[39;00m\n",
      "Cell \u001b[1;32mIn[24], line 1\u001b[0m\n\u001b[1;32m----> 1\u001b[0m \u001b[38;5;28;01mfrom\u001b[39;00m \u001b[38;5;21;01mPIL\u001b[39;00m \u001b[38;5;28;01mimport\u001b[39;00m Image\n\u001b[0;32m      2\u001b[0m \u001b[38;5;28;01mimport\u001b[39;00m \u001b[38;5;21;01mnumpy\u001b[39;00m \u001b[38;5;28;01mas\u001b[39;00m \u001b[38;5;21;01mnp\u001b[39;00m\n\u001b[0;32m      3\u001b[0m \u001b[38;5;28;01mimport\u001b[39;00m \u001b[38;5;21;01mcv2\u001b[39;00m\n",
      "File \u001b[1;32m_pydevd_bundle/pydevd_cython.pyx:1457\u001b[0m, in \u001b[0;36m_pydevd_bundle.pydevd_cython.SafeCallWrapper.__call__\u001b[1;34m()\u001b[0m\n",
      "File \u001b[1;32m_pydevd_bundle/pydevd_cython.pyx:701\u001b[0m, in \u001b[0;36m_pydevd_bundle.pydevd_cython.PyDBFrame.trace_dispatch\u001b[1;34m()\u001b[0m\n",
      "File \u001b[1;32m_pydevd_bundle/pydevd_cython.pyx:1152\u001b[0m, in \u001b[0;36m_pydevd_bundle.pydevd_cython.PyDBFrame.trace_dispatch\u001b[1;34m()\u001b[0m\n",
      "File \u001b[1;32m_pydevd_bundle/pydevd_cython.pyx:1135\u001b[0m, in \u001b[0;36m_pydevd_bundle.pydevd_cython.PyDBFrame.trace_dispatch\u001b[1;34m()\u001b[0m\n",
      "File \u001b[1;32m_pydevd_bundle/pydevd_cython.pyx:312\u001b[0m, in \u001b[0;36m_pydevd_bundle.pydevd_cython.PyDBFrame.do_wait_suspend\u001b[1;34m()\u001b[0m\n",
      "File \u001b[1;32m~\\AppData\\Roaming\\Python\\Python311\\site-packages\\debugpy\\_vendored\\pydevd\\pydevd.py:2070\u001b[0m, in \u001b[0;36mPyDB.do_wait_suspend\u001b[1;34m(self, thread, frame, event, arg, exception_type)\u001b[0m\n\u001b[0;32m   2067\u001b[0m             from_this_thread\u001b[38;5;241m.\u001b[39mappend(frame_custom_thread_id)\n\u001b[0;32m   2069\u001b[0m     \u001b[38;5;28;01mwith\u001b[39;00m \u001b[38;5;28mself\u001b[39m\u001b[38;5;241m.\u001b[39m_threads_suspended_single_notification\u001b[38;5;241m.\u001b[39mnotify_thread_suspended(thread_id, thread, stop_reason):\n\u001b[1;32m-> 2070\u001b[0m         keep_suspended \u001b[38;5;241m=\u001b[39m \u001b[38;5;28;43mself\u001b[39;49m\u001b[38;5;241;43m.\u001b[39;49m\u001b[43m_do_wait_suspend\u001b[49m\u001b[43m(\u001b[49m\u001b[43mthread\u001b[49m\u001b[43m,\u001b[49m\u001b[43m \u001b[49m\u001b[43mframe\u001b[49m\u001b[43m,\u001b[49m\u001b[43m \u001b[49m\u001b[43mevent\u001b[49m\u001b[43m,\u001b[49m\u001b[43m \u001b[49m\u001b[43marg\u001b[49m\u001b[43m,\u001b[49m\u001b[43m \u001b[49m\u001b[43msuspend_type\u001b[49m\u001b[43m,\u001b[49m\u001b[43m \u001b[49m\u001b[43mfrom_this_thread\u001b[49m\u001b[43m,\u001b[49m\u001b[43m \u001b[49m\u001b[43mframes_tracker\u001b[49m\u001b[43m)\u001b[49m\n\u001b[0;32m   2072\u001b[0m frames_list \u001b[38;5;241m=\u001b[39m \u001b[38;5;28;01mNone\u001b[39;00m\n\u001b[0;32m   2074\u001b[0m \u001b[38;5;28;01mif\u001b[39;00m keep_suspended:\n\u001b[0;32m   2075\u001b[0m     \u001b[38;5;66;03m# This means that we should pause again after a set next statement.\u001b[39;00m\n",
      "File \u001b[1;32m~\\AppData\\Roaming\\Python\\Python311\\site-packages\\debugpy\\_vendored\\pydevd\\pydevd.py:2106\u001b[0m, in \u001b[0;36mPyDB._do_wait_suspend\u001b[1;34m(self, thread, frame, event, arg, suspend_type, from_this_thread, frames_tracker)\u001b[0m\n\u001b[0;32m   2103\u001b[0m         \u001b[38;5;28mself\u001b[39m\u001b[38;5;241m.\u001b[39m_call_input_hook()\n\u001b[0;32m   2105\u001b[0m     \u001b[38;5;28mself\u001b[39m\u001b[38;5;241m.\u001b[39mprocess_internal_commands()\n\u001b[1;32m-> 2106\u001b[0m     time\u001b[38;5;241m.\u001b[39msleep(\u001b[38;5;241m0.01\u001b[39m)\n\u001b[0;32m   2108\u001b[0m \u001b[38;5;28mself\u001b[39m\u001b[38;5;241m.\u001b[39mcancel_async_evaluation(get_current_thread_id(thread), \u001b[38;5;28mstr\u001b[39m(\u001b[38;5;28mid\u001b[39m(frame)))\n\u001b[0;32m   2110\u001b[0m \u001b[38;5;66;03m# process any stepping instructions\u001b[39;00m\n",
      "\u001b[1;31mKeyboardInterrupt\u001b[0m: "
     ]
    }
   ],
   "source": [
    "from PIL import Image\n",
    "import numpy as np\n",
    "import cv2"
   ]
  },
  {
   "cell_type": "markdown",
   "metadata": {},
   "source": [
    "### Load the host,watermark and watermarked images"
   ]
  },
  {
   "cell_type": "code",
   "execution_count": null,
   "metadata": {},
   "outputs": [],
   "source": [
    "hr_image = Image.open(\"./output_image-1.png\")\n",
    "wm_image = Image.open(\"./watermark_image.jpg\")\n",
    "watermarked_image = Image.open(\"./output_image-1.png\")\n",
    "\n",
    "# hr_image = Image.open(\"host_image.jpg\")\n",
    "# wm_image = Image.open(\"./watermark_image.jpg\")\n",
    "# watermarked_image = Image.open(\"./output_image-1.png\")"
   ]
  },
  {
   "cell_type": "code",
   "execution_count": null,
   "metadata": {},
   "outputs": [],
   "source": [
    "# Resize the watermark image to the same size as the host image\n",
    "wm_image_resized = wm_image.resize(hr_image.size)\n",
    "watermarked_image_resized = watermarked_image.resize(hr_image.size)\n",
    "\n",
    "# Convert images to RGB (if not already in that mode)\n",
    "hr_image = hr_image.convert(\"RGB\")\n",
    "wm_image_resized = wm_image_resized.convert(\"RGB\")\n",
    "watermarked_image_resized = watermarked_image_resized.convert(\"RGB\")\n",
    "\n",
    "# Split images into R, G, B channels\n",
    "hr_r, hr_g, hr_b = hr_image.split()\n",
    "wm_r, wm_g, wm_b = wm_image_resized.split()\n",
    "hr_r_mod, hr_g_mod, hr_b_mod = watermarked_image_resized.split()"
   ]
  },
  {
   "cell_type": "code",
   "execution_count": null,
   "metadata": {},
   "outputs": [
    {
     "data": {
      "text/plain": [
       "(array([[15, 15, 14, ...,  6,  6,  6],\n",
       "        [15, 14, 14, ...,  6,  6,  6],\n",
       "        [15, 14, 14, ...,  6,  6,  6],\n",
       "        ...,\n",
       "        [ 2,  2,  3, ...,  1,  1,  1],\n",
       "        [ 2,  3,  3, ...,  1,  1,  1],\n",
       "        [ 2,  2,  3, ...,  1,  1,  1]], dtype=uint8),\n",
       " array([[22, 22, 22, ..., 30, 30, 30],\n",
       "        [22, 22, 22, ..., 30, 30, 30],\n",
       "        [22, 22, 22, ..., 30, 30, 29],\n",
       "        ...,\n",
       "        [ 3,  3,  3, ...,  5,  5,  5],\n",
       "        [ 3,  3,  3, ...,  5,  5,  5],\n",
       "        [ 3,  3,  3, ...,  5,  5,  5]], dtype=uint8),\n",
       " array([[59, 59, 59, ..., 87, 87, 86],\n",
       "        [59, 58, 59, ..., 87, 86, 86],\n",
       "        [59, 58, 58, ..., 86, 86, 86],\n",
       "        ...,\n",
       "        [ 7,  7,  7, ..., 21, 21, 21],\n",
       "        [ 7,  7,  7, ..., 21, 21, 21],\n",
       "        [ 7,  7,  7, ..., 21, 21, 21]], dtype=uint8))"
      ]
     },
     "execution_count": 6,
     "metadata": {},
     "output_type": "execute_result"
    }
   ],
   "source": [
    "# Convert channels to numpy arrays\n",
    "hr_r = np.array(hr_r)\n",
    "hr_g = np.array(hr_g)\n",
    "hr_b = np.array(hr_b)\n",
    "hr_r, hr_g, hr_b"
   ]
  },
  {
   "cell_type": "code",
   "execution_count": null,
   "metadata": {},
   "outputs": [
    {
     "data": {
      "text/plain": [
       "(array([[255, 255, 255, ..., 255, 255, 255],\n",
       "        [255, 255, 255, ..., 255, 255, 255],\n",
       "        [255, 255, 255, ..., 255, 255, 255],\n",
       "        ...,\n",
       "        [255, 255, 255, ..., 255, 255, 255],\n",
       "        [255, 255, 255, ..., 255, 255, 255],\n",
       "        [255, 255, 255, ..., 255, 255, 255]], dtype=uint8),\n",
       " array([[255, 255, 255, ..., 255, 255, 255],\n",
       "        [255, 255, 255, ..., 255, 255, 255],\n",
       "        [255, 255, 255, ..., 255, 255, 255],\n",
       "        ...,\n",
       "        [255, 255, 255, ..., 255, 255, 255],\n",
       "        [255, 255, 255, ..., 255, 255, 255],\n",
       "        [255, 255, 255, ..., 255, 255, 255]], dtype=uint8),\n",
       " array([[255, 255, 255, ..., 255, 255, 255],\n",
       "        [255, 255, 255, ..., 255, 255, 255],\n",
       "        [255, 255, 255, ..., 255, 255, 255],\n",
       "        ...,\n",
       "        [255, 255, 255, ..., 255, 255, 255],\n",
       "        [255, 255, 255, ..., 255, 255, 255],\n",
       "        [255, 255, 255, ..., 255, 255, 255]], dtype=uint8))"
      ]
     },
     "execution_count": 7,
     "metadata": {},
     "output_type": "execute_result"
    }
   ],
   "source": [
    "wm_r = np.array(wm_r)\n",
    "wm_g = np.array(wm_g)\n",
    "wm_b = np.array(wm_b)\n",
    "wm_r, wm_g, wm_b"
   ]
  },
  {
   "cell_type": "code",
   "execution_count": null,
   "metadata": {},
   "outputs": [
    {
     "data": {
      "text/plain": [
       "(array([[255, 255, 255, ..., 255, 255, 255],\n",
       "        [255, 255, 255, ..., 255, 255, 255],\n",
       "        [255, 255, 255, ..., 255, 255, 255],\n",
       "        ...,\n",
       "        [255, 255, 255, ..., 255, 255, 255],\n",
       "        [255, 255, 255, ..., 255, 255, 255],\n",
       "        [255, 255, 255, ..., 255, 255, 255]], dtype=uint8),\n",
       " array([[255, 255, 255, ..., 255, 255, 255],\n",
       "        [255, 255, 255, ..., 255, 255, 255],\n",
       "        [255, 255, 255, ..., 255, 255, 255],\n",
       "        ...,\n",
       "        [255, 255, 255, ..., 255, 255, 255],\n",
       "        [255, 255, 255, ..., 255, 255, 255],\n",
       "        [255, 255, 255, ..., 255, 255, 255]], dtype=uint8),\n",
       " array([[255, 255, 255, ..., 255, 255, 255],\n",
       "        [255, 255, 255, ..., 255, 255, 255],\n",
       "        [255, 255, 255, ..., 255, 255, 255],\n",
       "        ...,\n",
       "        [255, 255, 255, ..., 255, 255, 255],\n",
       "        [255, 255, 255, ..., 255, 255, 255],\n",
       "        [255, 255, 255, ..., 255, 255, 255]], dtype=uint8))"
      ]
     },
     "execution_count": 8,
     "metadata": {},
     "output_type": "execute_result"
    }
   ],
   "source": [
    "hr_r_mod = np.array(hr_r_mod)\n",
    "hr_g_mod = np.array(hr_g_mod)\n",
    "hr_b_mod = np.array(hr_b_mod)\n",
    "hr_r_mod, hr_g_mod, hr_b_mod"
   ]
  },
  {
   "cell_type": "markdown",
   "metadata": {},
   "source": [
    "### Extraction process"
   ]
  },
  {
   "cell_type": "code",
   "execution_count": null,
   "metadata": {},
   "outputs": [],
   "source": [
    "import numpy as np\n",
    "from tqdm import tqdm\n",
    "\n",
    "def extract_watermark(hr_mod_channel, hr_channel, wr_channel, alpha=0.6):\n",
    "    # Initialize the progress bar\n",
    "    with tqdm(total=100, desc=f\"Extracting Watermark-{hr_channel}\", bar_format=\"{l_bar}{bar} [ time left: {remaining} ]\") as pbar:\n",
    "        # Perform SVD on the modified HR channel\n",
    "        U_hr_mod, sigma_hr_mod, V_hr_mod = np.linalg.svd(hr_mod_channel, full_matrices=False)\n",
    "        pbar.update(30)  # Update progress bar\n",
    "        \n",
    "        # Perform SVD on the original HR channel\n",
    "        U_hr, sigma_hr, V_hr = np.linalg.svd(hr_channel, full_matrices=False)\n",
    "        pbar.update(30)  # Update progress bar\n",
    "        \n",
    "        # Perform SVD on the WR channel\n",
    "        U_wm, sigma_wm, V_wm = np.linalg.svd(wr_channel, full_matrices=False)\n",
    "        pbar.update(30)  # Update progress bar\n",
    "\n",
    "        # Calculate the modified watermark channel\n",
    "        sigma_wm_mod = (sigma_hr_mod - sigma_hr) / alpha\n",
    "        wm_channel_mod = np.dot(U_wm, np.dot(np.diag(sigma_wm_mod), V_wm))\n",
    "        pbar.update(10)  # Final progress update\n",
    "    \n",
    "    return wm_channel_mod\n"
   ]
  },
  {
   "cell_type": "markdown",
   "metadata": {},
   "source": [
    "### Extract watermark from each channel"
   ]
  },
  {
   "cell_type": "code",
   "execution_count": null,
   "metadata": {},
   "outputs": [
    {
     "name": "stderr",
     "output_type": "stream",
     "text": [
      "Extracting Watermark-{hr_channel}: 100%|██████████ [ time left: 00:00 ]\n",
      "Extracting Watermark-{hr_channel}: 100%|██████████ [ time left: 00:00 ]\n",
      "Extracting Watermark-{hr_channel}: 100%|██████████ [ time left: 00:00 ]\n"
     ]
    }
   ],
   "source": [
    "wm_r_mod = extract_watermark(hr_r_mod, hr_r, wm_r)\n",
    "wm_g_mod = extract_watermark(hr_g_mod, hr_g, wm_g)\n",
    "wm_b_mod = extract_watermark(hr_b_mod, hr_b, wm_b)"
   ]
  },
  {
   "cell_type": "code",
   "execution_count": null,
   "metadata": {},
   "outputs": [
    {
     "data": {
      "text/plain": [
       "(array([[206, 204, 180, ..., 202, 201, 204],\n",
       "        [215, 135, 204, ..., 204, 204, 204],\n",
       "        [215, 202, 182, ..., 205, 205, 204],\n",
       "        ...,\n",
       "        [222, 207, 207, ..., 205, 205, 204],\n",
       "        [222, 208, 208, ..., 204, 204, 204],\n",
       "        [222, 208, 207, ..., 204, 205, 204]], dtype=uint8),\n",
       " array([[183, 184, 165, ..., 180, 180, 180],\n",
       "        [170, 242, 169, ..., 179, 179, 179],\n",
       "        [181, 191, 208, ..., 179, 179, 179],\n",
       "        ...,\n",
       "        [196, 182, 178, ..., 178, 178, 179],\n",
       "        [196, 179, 180, ..., 179, 179, 179],\n",
       "        [196, 179, 180, ..., 180, 180, 179]], dtype=uint8),\n",
       " array([[165, 161, 163, ..., 160, 159, 162],\n",
       "        [162, 100, 168, ..., 163, 163, 163],\n",
       "        [162, 155, 168, ..., 162, 161, 163],\n",
       "        ...,\n",
       "        [179, 163, 163, ..., 163, 162, 163],\n",
       "        [179, 165, 162, ..., 162, 163, 163],\n",
       "        [179, 165, 162, ..., 163, 164, 163]], dtype=uint8))"
      ]
     },
     "execution_count": 12,
     "metadata": {},
     "output_type": "execute_result"
    }
   ],
   "source": [
    "# Normalize and convert to uint8\n",
    "wm_r_mod = cv2.normalize(wm_r_mod, None, 0, 255,\n",
    "                         cv2.NORM_MINMAX, dtype=cv2.CV_8U)\n",
    "wm_g_mod = cv2.normalize(wm_g_mod, None, 0, 255,\n",
    "                         cv2.NORM_MINMAX, dtype=cv2.CV_8U)\n",
    "wm_b_mod = cv2.normalize(wm_b_mod, None, 0, 255,\n",
    "                         cv2.NORM_MINMAX, dtype=cv2.CV_8U)\n",
    "wm_r_mod, wm_g_mod, wm_b_mod"
   ]
  },
  {
   "cell_type": "code",
   "execution_count": null,
   "metadata": {},
   "outputs": [],
   "source": [
    "# Merge extracted channels back into an RGB image\n",
    "extracted_watermark = Image.merge(\"RGB\", (Image.fromarray(\n",
    "    wm_r_mod), Image.fromarray(wm_g_mod), Image.fromarray(wm_b_mod)))\n",
    "extracted_watermark.save('watermark_output_image-1.png')\n",
    "extracted_watermark.show()"
   ]
  }
 ],
 "metadata": {
  "kernelspec": {
   "display_name": "Python 3",
   "language": "python",
   "name": "python3"
  },
  "language_info": {
   "codemirror_mode": {
    "name": "ipython",
    "version": 3
   },
   "file_extension": ".py",
   "mimetype": "text/x-python",
   "name": "python",
   "nbconvert_exporter": "python",
   "pygments_lexer": "ipython3",
   "version": "3.11.5"
  },
  "orig_nbformat": 4
 },
 "nbformat": 4,
 "nbformat_minor": 2
}
