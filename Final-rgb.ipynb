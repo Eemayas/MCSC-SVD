{
 "cells": [
  {
   "cell_type": "markdown",
   "metadata": {},
   "source": [
    "# Watermark Embedding and Extraction using SVD in RGB Channels"
   ]
  },
  {
   "cell_type": "markdown",
   "metadata": {},
   "source": [
    "This notebook covers the embedding and extraction of watermarks in images using Singular Value Decomposition (SVD) in RGB Channels. It includes loading images, resizing, converting to grayscale, performing SVD operations, embedding the watermark, and extracting it."
   ]
  },
  {
   "attachments": {},
   "cell_type": "markdown",
   "metadata": {},
   "source": [
    "## Embedding Watermark\n"
   ]
  },
  {
   "cell_type": "markdown",
   "metadata": {},
   "source": [
    "This script demonstrates how to embed a watermark image into a host image using Singular Value Decomposition (SVD). The watermark is embedded into each RGB channel of the host image separately. The embedding process is followed by a watermark extraction process to retrieve the watermark from the watermarked image."
   ]
  },
  {
   "cell_type": "code",
   "execution_count": 1,
   "metadata": {},
   "outputs": [],
   "source": [
    "from tqdm import tqdm\n",
    "from PIL import Image\n",
    "import numpy as np\n",
    "import cv2"
   ]
  },
  {
   "cell_type": "markdown",
   "metadata": {},
   "source": [
    "### Load the host and watermark images\n"
   ]
  },
  {
   "cell_type": "markdown",
   "metadata": {},
   "source": [
    "The host image is the primary image where the watermark will be embedded. The watermark image is the image that will be hidden within the host image."
   ]
  },
  {
   "cell_type": "code",
   "execution_count": 2,
   "metadata": {},
   "outputs": [],
   "source": [
    "hr_image = Image.open(\"./images/inputs/host_image.jpg\")\n",
    "wm_image = Image.open(\"./images/inputs/watermark_image.jpg\")"
   ]
  },
  {
   "cell_type": "markdown",
   "metadata": {},
   "source": [
    "### Resize and Convert Images to RGB"
   ]
  },
  {
   "cell_type": "markdown",
   "metadata": {},
   "source": [
    "The watermark image is resized to match the size of the host image. Both images are converted to the RGB color mode if they aren't already."
   ]
  },
  {
   "cell_type": "code",
   "execution_count": 3,
   "metadata": {},
   "outputs": [],
   "source": [
    "# Resize the watermark image to the same size as the host image\n",
    "wm_image_resized = wm_image.resize(hr_image.size)\n",
    "\n",
    "# Convert images to RGB (if not already in that mode)\n",
    "hr_image = hr_image.convert(\"RGB\")\n",
    "wm_image_resized = wm_image_resized.convert(\"RGB\")\n",
    "\n",
    "# Split images into R, G, B channels\n",
    "hr_r, hr_g, hr_b = hr_image.split()\n",
    "wm_r, wm_g, wm_b = wm_image_resized.split()"
   ]
  },
  {
   "cell_type": "markdown",
   "metadata": {},
   "source": [
    "### Convert Channels to Numpy Arrays"
   ]
  },
  {
   "cell_type": "markdown",
   "metadata": {},
   "source": [
    "The image channels are converted to numpy arrays to perform mathematical operations."
   ]
  },
  {
   "cell_type": "code",
   "execution_count": 4,
   "metadata": {},
   "outputs": [],
   "source": [
    "# Convert channels to numpy arrays\n",
    "hr_r = np.array(hr_r)\n",
    "hr_g = np.array(hr_g)\n",
    "hr_b = np.array(hr_b)\n",
    "# hr_r, hr_g, hr_b"
   ]
  },
  {
   "cell_type": "code",
   "execution_count": 5,
   "metadata": {},
   "outputs": [],
   "source": [
    "wm_r = np.array(wm_r)\n",
    "wm_g = np.array(wm_g)\n",
    "wm_b = np.array(wm_b)\n",
    "# wm_r, wm_g, wm_b"
   ]
  },
  {
   "cell_type": "markdown",
   "metadata": {},
   "source": [
    "### Function to Apply SVD and Modify Singular Values\n"
   ]
  },
  {
   "cell_type": "markdown",
   "metadata": {},
   "source": [
    "This function applies Singular Value Decomposition (SVD) to both the host and watermark channels and then modifies the singular values of the host image based on the singular values of the watermark."
   ]
  },
  {
   "cell_type": "code",
   "execution_count": 6,
   "metadata": {},
   "outputs": [],
   "source": [
    "def embed_watermark(hr_channel, wm_channel, alpha=0.6,channel_name=None):\n",
    "    \"\"\"\n",
    "    Embeds a watermark into a host image channel using SVD.\n",
    "\n",
    "    Args:\n",
    "        hr_channel (numpy array): Host image channel.\n",
    "        wm_channel (numpy array): Watermark image channel.\n",
    "        alpha (float): Scaling factor for watermark embedding.\n",
    "\n",
    "    Returns:\n",
    "        hr_channel_mod (numpy array): Watermarked host image channel.\n",
    "    \"\"\"\n",
    "    with tqdm(total=100, desc=f\"Embedding Watermark in a {channel_name} Channel\", bar_format=\"{l_bar}{bar} [ time left: {remaining} ]\") as pbar:\n",
    "        U_hr, sigma_hr, V_hr = np.linalg.svd(hr_channel)\n",
    "        pbar.update(40)\n",
    "\n",
    "        U_wm, sigma_wm, V_wm = np.linalg.svd(wm_channel)\n",
    "        pbar.update(40)\n",
    "\n",
    "        # Modify the singular values by adding scaled watermark singular values\n",
    "        sigma_hr_mod = sigma_hr + alpha * sigma_wm\n",
    "        hr_channel_mod = np.dot(U_hr[:, :sigma_hr_mod.shape[0]], np.dot(\n",
    "            np.diag(sigma_hr_mod), V_hr[:sigma_hr_mod.shape[0], :]))\n",
    "        pbar.update(20)\n",
    "\n",
    "    return hr_channel_mod"
   ]
  },
  {
   "cell_type": "markdown",
   "metadata": {},
   "source": [
    "### Embed Watermark in Each RGB Channel"
   ]
  },
  {
   "cell_type": "markdown",
   "metadata": {},
   "source": [
    "The watermark is embedded separately in each of the R, G, and B channels of the host image."
   ]
  },
  {
   "cell_type": "code",
   "execution_count": 7,
   "metadata": {},
   "outputs": [
    {
     "name": "stderr",
     "output_type": "stream",
     "text": [
      "Embedding Watermark in a Red Channel: 100%|██████████ [ time left: 00:00 ]\n",
      "Embedding Watermark in a Green Channel: 100%|██████████ [ time left: 00:00 ]\n",
      "Embedding Watermark in a Blue Channel: 100%|██████████ [ time left: 00:00 ]\n"
     ]
    }
   ],
   "source": [
    "hr_r_mod = embed_watermark(hr_r, wm_r,channel_name=\"Red\")\n",
    "hr_g_mod = embed_watermark(hr_g, wm_g,channel_name=\"Green\")\n",
    "hr_b_mod = embed_watermark(hr_b, wm_b,channel_name=\"Blue\")"
   ]
  },
  {
   "cell_type": "markdown",
   "metadata": {},
   "source": [
    "### Normalize the Modified Channels"
   ]
  },
  {
   "cell_type": "markdown",
   "metadata": {},
   "source": [
    "The modified channels are normalized to the range [0, 255] and converted to uint8 format."
   ]
  },
  {
   "cell_type": "code",
   "execution_count": 21,
   "metadata": {},
   "outputs": [],
   "source": [
    "# Normalize and convert to uint8\n",
    "hr_r_mod = cv2.normalize(hr_r_mod, None, 0, 255,\n",
    "                         cv2.NORM_MINMAX, dtype=cv2.CV_8U)\n",
    "hr_g_mod = cv2.normalize(hr_g_mod, None, 0, 255,\n",
    "                         cv2.NORM_MINMAX, dtype=cv2.CV_8U)\n",
    "hr_b_mod = cv2.normalize(hr_b_mod, None, 0, 255,\n",
    "                         cv2.NORM_MINMAX, dtype=cv2.CV_8U)\n",
    "# hr_r_mod, hr_g_mod, hr_b_mod"
   ]
  },
  {
   "cell_type": "markdown",
   "metadata": {},
   "source": [
    "### Merge Modified Channels to Form Watermarked Image and Save the Watermarked Image"
   ]
  },
  {
   "cell_type": "markdown",
   "metadata": {},
   "source": [
    "The normalized R, G, and B channels are merged to form the final watermarked image and Display the watermarked image and save it as `watermarked_image_rgb.png`.\n"
   ]
  },
  {
   "cell_type": "code",
   "execution_count": 9,
   "metadata": {},
   "outputs": [],
   "source": [
    "# Merge modified channels back into an RGB image\n",
    "watermarked_image = Image.merge(\"RGB\", (Image.fromarray(\n",
    "    hr_r_mod), Image.fromarray(hr_g_mod), Image.fromarray(hr_b_mod)))\n",
    "watermarked_image.save('./images/outputs/watermarked_image_rgb.png')\n",
    "watermarked_image.show()"
   ]
  },
  {
   "cell_type": "markdown",
   "metadata": {},
   "source": [
    "## Extracting Watermark"
   ]
  },
  {
   "cell_type": "markdown",
   "metadata": {},
   "source": [
    "The watermark is extracted from the watermarked image by reversing the embedding process."
   ]
  },
  {
   "cell_type": "code",
   "execution_count": 10,
   "metadata": {},
   "outputs": [],
   "source": [
    "from PIL import Image\n",
    "import numpy as np\n",
    "import cv2"
   ]
  },
  {
   "cell_type": "markdown",
   "metadata": {},
   "source": [
    "### Load the Host, Watermark, and Watermarked Images"
   ]
  },
  {
   "cell_type": "markdown",
   "metadata": {},
   "source": [
    "The original host image, the watermark image, and the watermarked image are loaded and split into their respective RGB channels."
   ]
  },
  {
   "cell_type": "code",
   "execution_count": 11,
   "metadata": {},
   "outputs": [],
   "source": [
    "hr_image = Image.open(\"./images/inputs/host_image.jpg\")\n",
    "wm_image = Image.open(\"./images/inputs/watermark_image.jpg\")\n",
    "watermarked_image = Image.open(\"./images/outputs/watermarked_image_rgb.png\")"
   ]
  },
  {
   "cell_type": "markdown",
   "metadata": {},
   "source": [
    "### Resize and Convert Images to RGB"
   ]
  },
  {
   "cell_type": "markdown",
   "metadata": {},
   "source": [
    "The watermark image and watermarked image is resized to match the size of the host image. Both images are converted to the RGB color mode if they aren't already."
   ]
  },
  {
   "cell_type": "code",
   "execution_count": 12,
   "metadata": {},
   "outputs": [],
   "source": [
    "# Resize the watermark image to the same size as the host image\n",
    "wm_image_resized = wm_image.resize(hr_image.size)\n",
    "watermarked_image_resized = watermarked_image.resize(hr_image.size)\n",
    "\n",
    "# Convert images to RGB (if not already in that mode)\n",
    "hr_image = hr_image.convert(\"RGB\")\n",
    "wm_image_resized = wm_image_resized.convert(\"RGB\")\n",
    "watermarked_image_resized = watermarked_image_resized.convert(\"RGB\")\n",
    "\n",
    "# Split images into R, G, B channels\n",
    "hr_r, hr_g, hr_b = hr_image.split()\n",
    "wm_r, wm_g, wm_b = wm_image_resized.split()\n",
    "hr_r_mod, hr_g_mod, hr_b_mod = watermarked_image_resized.split()"
   ]
  },
  {
   "cell_type": "markdown",
   "metadata": {},
   "source": [
    "### Convert Channels to Numpy Arrays"
   ]
  },
  {
   "cell_type": "markdown",
   "metadata": {},
   "source": [
    "The RGB channels of the host, watermark, and watermarked images are converted to numpy arrays for mathematical operations."
   ]
  },
  {
   "cell_type": "code",
   "execution_count": 13,
   "metadata": {},
   "outputs": [],
   "source": [
    "# Convert channels to numpy arrays\n",
    "hr_r = np.array(hr_r)\n",
    "hr_g = np.array(hr_g)\n",
    "hr_b = np.array(hr_b)\n",
    "# hr_r, hr_g, hr_b"
   ]
  },
  {
   "cell_type": "code",
   "execution_count": 14,
   "metadata": {},
   "outputs": [],
   "source": [
    "wm_r = np.array(wm_r)\n",
    "wm_g = np.array(wm_g)\n",
    "wm_b = np.array(wm_b)\n",
    "# wm_r, wm_g, wm_b"
   ]
  },
  {
   "cell_type": "code",
   "execution_count": 15,
   "metadata": {},
   "outputs": [],
   "source": [
    "hr_r_mod = np.array(hr_r_mod)\n",
    "hr_g_mod = np.array(hr_g_mod)\n",
    "hr_b_mod = np.array(hr_b_mod)\n",
    "# hr_r_mod, hr_g_mod, hr_b_mod"
   ]
  },
  {
   "cell_type": "markdown",
   "metadata": {},
   "source": [
    "### Function to Extract Watermark from Each Channel"
   ]
  },
  {
   "cell_type": "markdown",
   "metadata": {},
   "source": [
    "The function extracts the watermark from the watermarked image by performing SVD on both the watermarked and original host image channels and calculating the difference in singular values."
   ]
  },
  {
   "cell_type": "code",
   "execution_count": 16,
   "metadata": {},
   "outputs": [],
   "source": [
    "def extract_watermark(hr_mod_channel, hr_channel, wr_channel, alpha=0.6, channel_name=None):\n",
    "    \"\"\"\n",
    "    Extracts the watermark from a watermarked channel.\n",
    "\n",
    "    Args:\n",
    "        hr_mod_channel (numpy array): Watermarked host image channel.\n",
    "        hr_channel (numpy array): Original host image channel.\n",
    "        wr_channel (numpy array): Watermark image channel.\n",
    "        alpha (float): Scaling factor used during embedding.\n",
    "\n",
    "    Returns:\n",
    "        wm_channel_mod (numpy array): Extracted watermark channel.\n",
    "    \"\"\"\n",
    "    with tqdm(total=100, desc=f\"Extracting Watermark from a {channel_name} Channel\", bar_format=\"{l_bar}{bar} [ time left: {remaining} ]\") as pbar:\n",
    "        U_hr_mod, sigma_hr_mod, V_hr_mod = np.linalg.svd(hr_mod_channel, full_matrices=False)\n",
    "        pbar.update(30)\n",
    "\n",
    "        U_hr, sigma_hr, V_hr = np.linalg.svd(hr_channel, full_matrices=False)\n",
    "        pbar.update(30)\n",
    "\n",
    "        U_wm, sigma_wm, V_wm = np.linalg.svd(wr_channel, full_matrices=False)\n",
    "        pbar.update(30)\n",
    "\n",
    "        # Calculate the modified watermark channel\n",
    "        sigma_wm_mod = (sigma_hr_mod - sigma_hr) / alpha\n",
    "        wm_channel_mod = np.dot(U_wm, np.dot(np.diag(sigma_wm_mod), V_wm))\n",
    "        pbar.update(10)\n",
    "\n",
    "    return wm_channel_mod"
   ]
  },
  {
   "cell_type": "markdown",
   "metadata": {},
   "source": [
    "### Extract Watermark from Each RGB Channel"
   ]
  },
  {
   "cell_type": "markdown",
   "metadata": {},
   "source": [
    "The watermark is extracted separately from the R, G, and B channels of the watermarked image."
   ]
  },
  {
   "cell_type": "code",
   "execution_count": 17,
   "metadata": {},
   "outputs": [
    {
     "name": "stderr",
     "output_type": "stream",
     "text": [
      "Extracting Watermark from a Red Channel: 100%|██████████ [ time left: 00:00 ]\n",
      "Extracting Watermark from a Green Channel: 100%|██████████ [ time left: 00:00 ]\n",
      "Extracting Watermark from a Blue Channel: 100%|██████████ [ time left: 00:00 ]\n"
     ]
    }
   ],
   "source": [
    "wm_r_mod = extract_watermark(hr_r_mod, hr_r, wm_r,channel_name=\"Red\")\n",
    "wm_g_mod = extract_watermark(hr_g_mod, hr_g, wm_g,channel_name=\"Green\")\n",
    "wm_b_mod = extract_watermark(hr_b_mod, hr_b, wm_b,channel_name=\"Blue\")"
   ]
  },
  {
   "cell_type": "markdown",
   "metadata": {},
   "source": [
    "### Normalize and Merge Extracted Channels"
   ]
  },
  {
   "cell_type": "markdown",
   "metadata": {},
   "source": [
    "The extracted R, G, and B channels are normalized and merged to form the final extracted watermark image."
   ]
  },
  {
   "cell_type": "code",
   "execution_count": 20,
   "metadata": {},
   "outputs": [],
   "source": [
    "# Normalize and convert to uint8\n",
    "wm_r_mod = cv2.normalize(wm_r_mod, None, 0, 255,\n",
    "                         cv2.NORM_MINMAX, dtype=cv2.CV_8U)\n",
    "wm_g_mod = cv2.normalize(wm_g_mod, None, 0, 255,\n",
    "                         cv2.NORM_MINMAX, dtype=cv2.CV_8U)\n",
    "wm_b_mod = cv2.normalize(wm_b_mod, None, 0, 255,\n",
    "                         cv2.NORM_MINMAX, dtype=cv2.CV_8U)\n",
    "# wm_r_mod, wm_g_mod, wm_b_mod"
   ]
  },
  {
   "cell_type": "code",
   "execution_count": 19,
   "metadata": {},
   "outputs": [],
   "source": [
    "# Merge extracted channels back into an RGB image\n",
    "extracted_watermark = Image.merge(\"RGB\", (Image.fromarray(\n",
    "    wm_r_mod), Image.fromarray(wm_g_mod), Image.fromarray(wm_b_mod)))\n",
    "extracted_watermark.save('./images/outputs/extracted_watermark_image_rgb.png')\n",
    "extracted_watermark.show()"
   ]
  }
 ],
 "metadata": {
  "kernelspec": {
   "display_name": "Python 3",
   "language": "python",
   "name": "python3"
  },
  "language_info": {
   "codemirror_mode": {
    "name": "ipython",
    "version": 3
   },
   "file_extension": ".py",
   "mimetype": "text/x-python",
   "name": "python",
   "nbconvert_exporter": "python",
   "pygments_lexer": "ipython3",
   "version": "3.11.5"
  },
  "orig_nbformat": 4
 },
 "nbformat": 4,
 "nbformat_minor": 2
}
