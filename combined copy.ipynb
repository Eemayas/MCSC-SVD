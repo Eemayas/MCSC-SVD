{
 "cells": [
  {
   "cell_type": "code",
   "execution_count": 35,
   "metadata": {},
   "outputs": [],
   "source": [
    "from PIL import Image\n",
    "import numpy as np\n",
    "import cv2\n"
   ]
  },
  {
   "cell_type": "code",
   "execution_count": 36,
   "metadata": {},
   "outputs": [],
   "source": [
    "# Load the host and watermark images\n",
    "hr_image = Image.open(\"high_resolution_image.jpg\")\n",
    "wm_image = Image.open(\"./ravenLogo.jpg\")\n",
    "\n",
    "# Resize the watermark image to the same size as the host image\n",
    "wm_image_resized = wm_image.resize(hr_image.size)\n",
    "\n",
    "# Convert both images to grayscale\n",
    "hr_image = hr_image.convert(\"L\")\n",
    "wm_image_resized = wm_image_resized.convert(\"L\")\n"
   ]
  },
  {
   "cell_type": "code",
   "execution_count": 37,
   "metadata": {},
   "outputs": [],
   "source": [
    "# hr_image = cv2.imread('high_resolution_image.jpg', cv2.IMREAD_GRAYSCALE)\n",
    "# wm_image = cv2.imread('./download.png', cv2.IMREAD_GRAYSCALE)\n"
   ]
  },
  {
   "cell_type": "code",
   "execution_count": 38,
   "metadata": {},
   "outputs": [],
   "source": [
    "# hr_image = cv2.imread('high_resolution_image.jpg')\n",
    "# wm_image = cv2.imread('./download.png')\n"
   ]
  },
  {
   "cell_type": "code",
   "execution_count": 39,
   "metadata": {},
   "outputs": [],
   "source": [
    "# wm_image_resized = cv2.resize(wm_image, hr_image.shape[::-1])"
   ]
  },
  {
   "cell_type": "code",
   "execution_count": 40,
   "metadata": {},
   "outputs": [],
   "source": [
    "U_hr, sigma_hr, V_hr = np.linalg.svd(hr_image)"
   ]
  },
  {
   "cell_type": "code",
   "execution_count": null,
   "metadata": {},
   "outputs": [
    {
     "data": {
      "text/plain": [
       "array([[ 0.01048138,  0.01586544,  0.01058289, ..., -0.02016765,\n",
       "         0.01017384, -0.01096529],\n",
       "       [ 0.01049814,  0.01588426,  0.01053788, ...,  0.0561238 ,\n",
       "        -0.01881205, -0.01012581],\n",
       "       [ 0.01052205,  0.01589693,  0.01051243, ..., -0.01547944,\n",
       "         0.01076705,  0.02154981],\n",
       "       ...,\n",
       "       [ 0.00316736,  0.01004396, -0.00239396, ..., -0.01102048,\n",
       "         0.01805149,  0.0211272 ],\n",
       "       [ 0.00316531,  0.01013575, -0.00301917, ...,  0.01078797,\n",
       "        -0.0224164 ,  0.0095271 ],\n",
       "       [ 0.00316252,  0.01017166, -0.00318538, ..., -0.0040119 ,\n",
       "         0.02046394, -0.01273782]])"
      ]
     },
     "execution_count": 22,
     "metadata": {},
     "output_type": "execute_result"
    }
   ],
   "source": [
    "U_hr"
   ]
  },
  {
   "cell_type": "code",
   "execution_count": null,
   "metadata": {},
   "outputs": [
    {
     "data": {
      "text/plain": [
       "array([3.94059786e+05, 8.62034800e+04, 4.28296783e+04, ...,\n",
       "       6.78103592e+00, 6.71517895e+00, 6.66104808e+00])"
      ]
     },
     "execution_count": 23,
     "metadata": {},
     "output_type": "execute_result"
    }
   ],
   "source": [
    "sigma_hr"
   ]
  },
  {
   "cell_type": "code",
   "execution_count": null,
   "metadata": {},
   "outputs": [
    {
     "data": {
      "text/plain": [
       "array([[ 6.16607823e-03,  6.16918847e-03,  6.17463641e-03, ...,\n",
       "         3.95141258e-03,  3.95400788e-03,  3.95059285e-03],\n",
       "       [-6.58376375e-03, -6.53393161e-03, -6.49567229e-03, ...,\n",
       "         9.56896267e-03,  9.57393587e-03,  9.54534473e-03],\n",
       "       [ 4.28410374e-03,  4.18640186e-03,  4.11677890e-03, ...,\n",
       "         8.86172377e-03,  8.88168188e-03,  8.87935101e-03],\n",
       "       ...,\n",
       "       [ 1.59231363e-03, -6.85560395e-03,  1.71597659e-03, ...,\n",
       "         5.74650007e-01, -1.43948525e-01, -8.71123739e-02],\n",
       "       [-3.03242332e-03,  1.24028335e-02, -5.58871039e-03, ...,\n",
       "        -1.40842345e-01,  5.25180858e-01, -1.54422566e-01],\n",
       "       [-3.53734728e-04,  1.95760313e-02, -1.31335894e-02, ...,\n",
       "        -8.78492097e-02, -1.58914596e-01,  4.92485754e-01]])"
      ]
     },
     "execution_count": 24,
     "metadata": {},
     "output_type": "execute_result"
    }
   ],
   "source": [
    "V_hr"
   ]
  },
  {
   "cell_type": "code",
   "execution_count": null,
   "metadata": {},
   "outputs": [],
   "source": [
    "U_wm, sigma_wm, V_wm = np.linalg.svd(wm_image_resized)"
   ]
  },
  {
   "cell_type": "code",
   "execution_count": null,
   "metadata": {},
   "outputs": [
    {
     "data": {
      "text/plain": [
       "array([[ 0.02032028,  0.03146817, -0.02157029, ..., -0.02759977,\n",
       "        -0.03295759, -0.04700402],\n",
       "       [ 0.02032028,  0.03146817, -0.02157029, ..., -0.00129293,\n",
       "        -0.00542085,  0.00049054],\n",
       "       [ 0.02032028,  0.03146817, -0.02157029, ...,  0.00595759,\n",
       "        -0.06451063,  0.01681697],\n",
       "       ...,\n",
       "       [ 0.0203283 ,  0.03148044, -0.02157116, ..., -0.02237234,\n",
       "        -0.02609735,  0.01885423],\n",
       "       [ 0.0203283 ,  0.03148044, -0.02157116, ...,  0.00894948,\n",
       "         0.00732719,  0.03288454],\n",
       "       [ 0.0203283 ,  0.03148044, -0.02157116, ...,  0.01232241,\n",
       "         0.00980918,  0.03465404]])"
      ]
     },
     "execution_count": 26,
     "metadata": {},
     "output_type": "execute_result"
    }
   ],
   "source": [
    "U_wm"
   ]
  },
  {
   "cell_type": "code",
   "execution_count": null,
   "metadata": {},
   "outputs": [
    {
     "data": {
      "text/plain": [
       "array([8.44358955e+05, 9.91053945e+04, 6.88151130e+04, ...,\n",
       "       3.97631126e-11, 2.69872758e-11, 9.33330870e-12])"
      ]
     },
     "execution_count": 27,
     "metadata": {},
     "output_type": "execute_result"
    }
   ],
   "source": [
    "sigma_wm"
   ]
  },
  {
   "cell_type": "code",
   "execution_count": null,
   "metadata": {},
   "outputs": [
    {
     "data": {
      "text/plain": [
       "array([[ 1.54093677e-02,  1.54093677e-02,  1.54093677e-02, ...,\n",
       "         1.54093677e-02,  1.54093677e-02,  1.54093677e-02],\n",
       "       [-6.71736984e-03, -6.71736984e-03, -6.71736984e-03, ...,\n",
       "        -6.71736984e-03, -6.71736984e-03, -6.71736984e-03],\n",
       "       [-2.84618290e-03, -2.84618290e-03, -2.84618290e-03, ...,\n",
       "        -2.84618290e-03, -2.84618290e-03, -2.84618290e-03],\n",
       "       ...,\n",
       "       [-3.95385767e-18,  1.53723702e-18, -5.88408988e-18, ...,\n",
       "         8.92715924e-19, -1.03827114e-19,  5.37001118e-19],\n",
       "       [ 3.08117003e-18, -2.24354500e-19, -1.45293292e-18, ...,\n",
       "        -1.37178507e-19, -1.34238488e-18,  6.71967522e-19],\n",
       "       [-3.93559967e-18,  5.69213288e-18,  2.88130656e-18, ...,\n",
       "         2.44835308e-18,  1.21246324e-18, -2.79314655e-19]])"
      ]
     },
     "execution_count": 28,
     "metadata": {},
     "output_type": "execute_result"
    }
   ],
   "source": [
    "V_wm"
   ]
  },
  {
   "cell_type": "code",
   "execution_count": null,
   "metadata": {},
   "outputs": [],
   "source": [
    "alpha = 0.6\n",
    "sigma_hr_mod = sigma_hr + alpha * sigma_wm"
   ]
  },
  {
   "cell_type": "code",
   "execution_count": null,
   "metadata": {},
   "outputs": [
    {
     "data": {
      "text/plain": [
       "array([9.00675158e+05, 1.45666717e+05, 8.41187461e+04, ...,\n",
       "       6.78103592e+00, 6.71517895e+00, 6.66104808e+00])"
      ]
     },
     "execution_count": 30,
     "metadata": {},
     "output_type": "execute_result"
    }
   ],
   "source": [
    "sigma_hr_mod"
   ]
  },
  {
   "cell_type": "code",
   "execution_count": null,
   "metadata": {},
   "outputs": [
    {
     "data": {
      "text/plain": [
       "array([[50.79104142, 50.94823808, 50.12767052, ..., 81.4205711 ,\n",
       "        81.39245431, 80.33084941],\n",
       "       [50.94990214, 50.11115758, 50.29964863, ..., 81.56985815,\n",
       "        80.5459064 , 80.48511791],\n",
       "       [51.0540869 , 50.22392993, 50.42619478, ..., 80.73956174,\n",
       "        80.71883918, 79.65577154],\n",
       "       ...,\n",
       "       [ 3.73134961,  3.96285752,  3.91650825, ..., 15.50856198,\n",
       "        15.33623222, 15.12564396],\n",
       "       [ 3.84021745,  4.18998666,  4.28152868, ..., 15.61531949,\n",
       "        15.44988449, 15.2634632 ],\n",
       "       [ 4.03818783,  4.45237001,  4.62607885, ..., 15.70012482,\n",
       "        15.55048142, 15.38524194]])"
      ]
     },
     "execution_count": 31,
     "metadata": {},
     "output_type": "execute_result"
    }
   ],
   "source": [
    "hr_image_mod = np.dot(U_hr[:, :sigma_hr_mod.shape[0]], np.dot(np.diag(sigma_hr_mod), V_hr[:sigma_hr_mod.shape[0],:]))\n",
    "hr_image_mod"
   ]
  },
  {
   "cell_type": "code",
   "execution_count": null,
   "metadata": {},
   "outputs": [
    {
     "ename": "NameError",
     "evalue": "name 'cv2' is not defined",
     "output_type": "error",
     "traceback": [
      "\u001b[1;31m---------------------------------------------------------------------------\u001b[0m",
      "\u001b[1;31mNameError\u001b[0m                                 Traceback (most recent call last)",
      "Cell \u001b[1;32mIn[32], line 1\u001b[0m\n\u001b[1;32m----> 1\u001b[0m hr_image_mod \u001b[39m=\u001b[39m cv2\u001b[39m.\u001b[39mnormalize(hr_image_mod, \u001b[39mNone\u001b[39;00m, \u001b[39m0\u001b[39m, \u001b[39m255\u001b[39m, cv2\u001b[39m.\u001b[39mNORM_MINMAX, dtype\u001b[39m=\u001b[39mcv2\u001b[39m.\u001b[39mCV_8U)\n\u001b[0;32m      2\u001b[0m hr_image_mod\n",
      "\u001b[1;31mNameError\u001b[0m: name 'cv2' is not defined"
     ]
    }
   ],
   "source": [
    "hr_image_mod = cv2.normalize(hr_image_mod, None, 0, 255, cv2.NORM_MINMAX, dtype=cv2.CV_8U)\n",
    "hr_image_mod\n"
   ]
  },
  {
   "cell_type": "code",
   "execution_count": null,
   "metadata": {},
   "outputs": [],
   "source": [
    "img1 = Image.fromarray(hr_image_mod)\n",
    "img1.show()"
   ]
  },
  {
   "cell_type": "code",
   "execution_count": null,
   "metadata": {},
   "outputs": [],
   "source": [
    "img1.save('output_image.png')"
   ]
  },
  {
   "attachments": {},
   "cell_type": "markdown",
   "metadata": {},
   "source": [
    "\n",
    "# Embedded"
   ]
  },
  {
   "cell_type": "code",
   "execution_count": null,
   "metadata": {},
   "outputs": [],
   "source": [
    "U_hr_mod1, sigma_hr_mod1, V_hr_mod1 = np.linalg.svd(hr_image_mod)"
   ]
  },
  {
   "cell_type": "code",
   "execution_count": null,
   "metadata": {},
   "outputs": [],
   "source": [
    "U_hr1, sigma_hr1, V_hr1 = np.linalg.svd(hr_image)"
   ]
  },
  {
   "cell_type": "code",
   "execution_count": null,
   "metadata": {},
   "outputs": [
    {
     "data": {
      "text/plain": [
       "(array([[1., 0., 0., ..., 0., 0., 0.],\n",
       "        [0., 1., 0., ..., 0., 0., 0.],\n",
       "        [0., 0., 1., ..., 0., 0., 0.],\n",
       "        ...,\n",
       "        [0., 0., 0., ..., 1., 0., 0.],\n",
       "        [0., 0., 0., ..., 0., 1., 0.],\n",
       "        [0., 0., 0., ..., 0., 0., 1.]]),\n",
       " array([0., 0., 0., ..., 0., 0., 0.]),\n",
       " array([[1., 0., 0., ..., 0., 0., 0.],\n",
       "        [0., 1., 0., ..., 0., 0., 0.],\n",
       "        [0., 0., 1., ..., 0., 0., 0.],\n",
       "        ...,\n",
       "        [0., 0., 0., ..., 1., 0., 0.],\n",
       "        [0., 0., 0., ..., 0., 1., 0.],\n",
       "        [0., 0., 0., ..., 0., 0., 1.]]))"
      ]
     },
     "execution_count": 21,
     "metadata": {},
     "output_type": "execute_result"
    }
   ],
   "source": [
    "U_wm1, sigma_wm1, V_wm1 = np.linalg.svd(np.zeros_like(hr_image))\n",
    "U_wm1, sigma_wm1, V_wm1\n"
   ]
  },
  {
   "cell_type": "code",
   "execution_count": null,
   "metadata": {},
   "outputs": [],
   "source": [
    "sigma_wm_mod = (sigma_hr_mod - sigma_hr) / alpha"
   ]
  },
  {
   "cell_type": "code",
   "execution_count": null,
   "metadata": {},
   "outputs": [
    {
     "data": {
      "text/plain": [
       "array([8.43965517e+05, 9.88316945e+04, 6.81210838e+04, ...,\n",
       "       6.87642536e-11, 2.89590574e-11, 1.87316829e-11])"
      ]
     },
     "execution_count": 23,
     "metadata": {},
     "output_type": "execute_result"
    }
   ],
   "source": [
    "sigma_wm_mod"
   ]
  },
  {
   "cell_type": "code",
   "execution_count": null,
   "metadata": {},
   "outputs": [],
   "source": [
    "watermark = np.dot(U_wm[:, :sigma_wm_mod.shape[0]], np.dot(np.diag(sigma_wm_mod), V_wm[:sigma_wm_mod.shape[0],:]))"
   ]
  },
  {
   "cell_type": "code",
   "execution_count": null,
   "metadata": {},
   "outputs": [],
   "source": [
    "img=Image.fromarray(watermark)\n",
    "img.show()"
   ]
  },
  {
   "cell_type": "code",
   "execution_count": null,
   "metadata": {},
   "outputs": [],
   "source": []
  }
 ],
 "metadata": {
  "kernelspec": {
   "display_name": "Python 3",
   "language": "python",
   "name": "python3"
  },
  "language_info": {
   "codemirror_mode": {
    "name": "ipython",
    "version": 3
   },
   "file_extension": ".py",
   "mimetype": "text/x-python",
   "name": "python",
   "nbconvert_exporter": "python",
   "pygments_lexer": "ipython3",
   "version": "3.11.2"
  },
  "orig_nbformat": 4
 },
 "nbformat": 4,
 "nbformat_minor": 2
}
