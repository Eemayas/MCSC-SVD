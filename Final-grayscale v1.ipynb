{
 "cells": [
  {
   "attachments": {},
   "cell_type": "markdown",
   "metadata": {},
   "source": [
    "# Embedding Watermark"
   ]
  },
  {
   "attachments": {},
   "cell_type": "markdown",
   "metadata": {},
   "source": [
    "### Importing necessary libraries"
   ]
  },
  {
   "cell_type": "code",
   "execution_count": 1,
   "metadata": {},
   "outputs": [],
   "source": [
    "from PIL import Image\n",
    "import numpy as np\n",
    "import cv2"
   ]
  },
  {
   "attachments": {},
   "cell_type": "markdown",
   "metadata": {},
   "source": [
    "### IMPORTING image from local storage"
   ]
  },
  {
   "cell_type": "code",
   "execution_count": 2,
   "metadata": {},
   "outputs": [],
   "source": [
    "# Load the host and watermark images\n",
    "hr_image = Image.open(\"host_image.jpg\")\n",
    "wm_image = Image.open(\"./watermark_image.jpg\")"
   ]
  },
  {
   "attachments": {},
   "cell_type": "markdown",
   "metadata": {},
   "source": [
    "### Resizing the watermarked image in size of host image"
   ]
  },
  {
   "cell_type": "code",
   "execution_count": 3,
   "metadata": {},
   "outputs": [],
   "source": [
    "# Resize the watermark image to the same size as the host image\n",
    "wm_image_resized = wm_image.resize(hr_image.size)\n",
    "\n",
    "# Convert both images to grayscale\n",
    "hr_image = hr_image .convert(\"L\")\n",
    "wm_image_resized = wm_image_resized.convert(\"L\")\n"
   ]
  },
  {
   "cell_type": "markdown",
   "metadata": {},
   "source": [
    "### Function to apply SVD and modify singular values"
   ]
  },
  {
   "cell_type": "code",
   "execution_count": 4,
   "metadata": {},
   "outputs": [],
   "source": [
    "\n",
    "def embed_watermark(hr_channel, wm_channel, alpha=0.6):\n",
    "    U_hr, sigma_hr, V_hr = np.linalg.svd(hr_channel)\n",
    "    U_wm, sigma_wm, V_wm = np.linalg.svd(wm_channel)\n",
    "    \n",
    "    sigma_hr_mod = sigma_hr + alpha * sigma_wm\n",
    "    hr_channel_mod = np.dot(U_hr[:, :sigma_hr_mod.shape[0]], np.dot(np.diag(sigma_hr_mod), V_hr[:sigma_hr_mod.shape[0],:]))\n",
    "    \n",
    "    return hr_channel_mod"
   ]
  },
  {
   "cell_type": "code",
   "execution_count": 5,
   "metadata": {},
   "outputs": [],
   "source": [
    "hr_mod = embed_watermark(hr_image, wm_image_resized)"
   ]
  },
  {
   "attachments": {},
   "cell_type": "markdown",
   "metadata": {},
   "source": [
    "### Covert the array in range of 0 to 255"
   ]
  },
  {
   "cell_type": "code",
   "execution_count": 6,
   "metadata": {},
   "outputs": [
    {
     "data": {
      "text/plain": [
       "array([[24, 24, 23, ..., 29, 29, 28],\n",
       "       [24, 23, 23, ..., 29, 28, 28],\n",
       "       [24, 23, 23, ..., 28, 28, 28],\n",
       "       ...,\n",
       "       [ 3,  3,  3, ...,  5,  5,  5],\n",
       "       [ 3,  3,  3, ...,  5,  5,  5],\n",
       "       [ 3,  3,  3, ...,  5,  5,  5]], dtype=uint8)"
      ]
     },
     "execution_count": 6,
     "metadata": {},
     "output_type": "execute_result"
    }
   ],
   "source": [
    "hr_mod = cv2.normalize(hr_mod, None, 0, 255, cv2.NORM_MINMAX, dtype=cv2.CV_8U)\n",
    "hr_mod"
   ]
  },
  {
   "attachments": {},
   "cell_type": "markdown",
   "metadata": {},
   "source": [
    "### Extract the image from the array"
   ]
  },
  {
   "cell_type": "code",
   "execution_count": 7,
   "metadata": {},
   "outputs": [],
   "source": [
    "watermarked_image_grayscale = Image.fromarray(hr_mod)\n",
    "watermarked_image_grayscale.show()\n",
    "watermarked_image_grayscale.save('output_image.png')"
   ]
  },
  {
   "attachments": {},
   "cell_type": "markdown",
   "metadata": {},
   "source": [
    "# Extraction "
   ]
  },
  {
   "cell_type": "code",
   "execution_count": 8,
   "metadata": {},
   "outputs": [],
   "source": [
    "# Extraction process\n",
    "def extract_watermark(hr_mod_channel, hr_channel,wr_channel, alpha=0.6):\n",
    "    U_hr_mod, sigma_hr_mod, V_hr_mod = np.linalg.svd(hr_mod_channel, full_matrices=False)\n",
    "    U_hr, sigma_hr, V_hr = np.linalg.svd(hr_channel, full_matrices=False)\n",
    "    U_wm, sigma_wm, V_wm = np.linalg.svd(wr_channel, full_matrices=False)\n",
    "    \n",
    "    sigma_wm_mod = (sigma_hr_mod - sigma_hr) / alpha\n",
    "    wm_channel_mod = np.dot(U_wm[:, :sigma_wm_mod.shape[0]], np.dot(np.diag(sigma_wm_mod), V_wm[:sigma_wm_mod.shape[0],:]))\n",
    "    return wm_channel_mod"
   ]
  },
  {
   "cell_type": "code",
   "execution_count": 9,
   "metadata": {},
   "outputs": [],
   "source": [
    "wm_mod = extract_watermark(hr_mod, hr_image,wm_image_resized)"
   ]
  },
  {
   "cell_type": "code",
   "execution_count": 10,
   "metadata": {},
   "outputs": [],
   "source": [
    "wm_mod = cv2.normalize(wm_mod, None, 0, 255, cv2.NORM_MINMAX, dtype=cv2.CV_8U)"
   ]
  },
  {
   "attachments": {},
   "cell_type": "markdown",
   "metadata": {},
   "source": [
    "### Inverse SVD to obtain the Watermark Image"
   ]
  },
  {
   "cell_type": "code",
   "execution_count": 11,
   "metadata": {},
   "outputs": [],
   "source": [
    "extracted_watermark=Image.fromarray(wm_mod)\n",
    "extracted_watermark.show()\n",
    "extracted_watermark.save('watermark_output_image.png')"
   ]
  },
  {
   "cell_type": "code",
   "execution_count": null,
   "metadata": {},
   "outputs": [],
   "source": []
  }
 ],
 "metadata": {
  "kernelspec": {
   "display_name": "Python 3",
   "language": "python",
   "name": "python3"
  },
  "language_info": {
   "codemirror_mode": {
    "name": "ipython",
    "version": 3
   },
   "file_extension": ".py",
   "mimetype": "text/x-python",
   "name": "python",
   "nbconvert_exporter": "python",
   "pygments_lexer": "ipython3",
   "version": "3.11.5"
  },
  "orig_nbformat": 4
 },
 "nbformat": 4,
 "nbformat_minor": 2
}
