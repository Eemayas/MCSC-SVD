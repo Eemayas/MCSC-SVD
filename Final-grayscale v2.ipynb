{
 "cells": [
  {
   "attachments": {},
   "cell_type": "markdown",
   "metadata": {},
   "source": [
    "# Embedding Watermark\n"
   ]
  },
  {
   "cell_type": "code",
   "execution_count": null,
   "metadata": {},
   "outputs": [],
   "source": [
    "from PIL import Image\n",
    "import numpy as np\n",
    "import cv2"
   ]
  },
  {
   "cell_type": "markdown",
   "metadata": {},
   "source": [
    "### Load the host and watermark images\n"
   ]
  },
  {
   "cell_type": "code",
   "execution_count": null,
   "metadata": {},
   "outputs": [],
   "source": [
    "hr_image = Image.open(\"host_image.jpg\")\n",
    "wm_image = Image.open(\"./watermark_image.jpg\")"
   ]
  },
  {
   "cell_type": "code",
   "execution_count": null,
   "metadata": {},
   "outputs": [],
   "source": [
    "# Resize the watermark image to the same size as the host image\n",
    "wm_image_resized = wm_image.resize(hr_image.size)\n",
    "\n",
    "# Convert both images to grayscale\n",
    "hr = hr_image .convert(\"L\")\n",
    "wm = wm_image_resized.convert(\"L\")"
   ]
  },
  {
   "cell_type": "code",
   "execution_count": null,
   "metadata": {},
   "outputs": [],
   "source": [
    "# Convert channels to numpy arrays\n",
    "hr = np.array(hr)\n",
    "wm = np.array(wm)\n",
    "hr,wm"
   ]
  },
  {
   "cell_type": "markdown",
   "metadata": {},
   "source": [
    "### Function to apply SVD and modify singular values\n"
   ]
  },
  {
   "cell_type": "code",
   "execution_count": null,
   "metadata": {},
   "outputs": [],
   "source": [
    "# Function to apply SVD and modify singular values\n",
    "def embed_watermark(hr_channel, wm_channel, alpha=0.6):\n",
    "    U_hr, sigma_hr, V_hr = np.linalg.svd(hr_channel)\n",
    "    U_wm, sigma_wm, V_wm = np.linalg.svd(wm_channel)\n",
    "\n",
    "    sigma_hr_mod = sigma_hr + alpha * sigma_wm\n",
    "    hr_channel_mod = np.dot(U_hr[:, :sigma_hr_mod.shape[0]], np.dot(\n",
    "        np.diag(sigma_hr_mod), V_hr[:sigma_hr_mod.shape[0], :]))\n",
    "\n",
    "    return hr_channel_mod"
   ]
  },
  {
   "cell_type": "markdown",
   "metadata": {},
   "source": [
    "### Embed watermark\n"
   ]
  },
  {
   "cell_type": "code",
   "execution_count": null,
   "metadata": {},
   "outputs": [],
   "source": [
    "hr_mod = embed_watermark(hr, wm)"
   ]
  },
  {
   "cell_type": "code",
   "execution_count": null,
   "metadata": {},
   "outputs": [],
   "source": [
    "# Normalize and convert to uint8\n",
    "hr_mod = cv2.normalize(hr_mod, None, 0, 255,\n",
    "                         cv2.NORM_MINMAX, dtype=cv2.CV_8U)\n",
    "hr_mod"
   ]
  },
  {
   "cell_type": "code",
   "execution_count": null,
   "metadata": {},
   "outputs": [],
   "source": [
    "watermarked_image_grayscale = Image.fromarray(hr_mod)\n",
    "watermarked_image_grayscale.show()\n",
    "watermarked_image_grayscale.save('output_image.png')"
   ]
  },
  {
   "cell_type": "markdown",
   "metadata": {},
   "source": [
    "# Extraction\n"
   ]
  },
  {
   "cell_type": "markdown",
   "metadata": {},
   "source": [
    "### Load the host,watermark and watermarked images"
   ]
  },
  {
   "cell_type": "code",
   "execution_count": null,
   "metadata": {},
   "outputs": [],
   "source": [
    "hr_image = Image.open(\"host_image.jpg\")\n",
    "wm_image = Image.open(\"./watermark_image.jpg\")\n",
    "watermarked_image = Image.open(\"./output_image-1.png\")"
   ]
  },
  {
   "cell_type": "code",
   "execution_count": null,
   "metadata": {},
   "outputs": [],
   "source": [
    "# Resize the watermark image to the same size as the host image\n",
    "wm_image_resized = wm_image.resize(hr_image.size)\n",
    "watermarked_image_resized = watermarked_image.resize(hr_image.size)\n",
    "\n",
    "# Convert images to RGB (if not already in that mode)\n",
    "hr_image = hr_image.convert(\"RGB\")\n",
    "wm_image_resized = wm_image_resized.convert(\"RGB\")\n",
    "watermarked_image_resized = watermarked_image_resized.convert(\"RGB\")\n",
    "\n",
    "# Split images into R, G, B channels\n",
    "hr_r, hr_g, hr_b = hr_image.split()\n",
    "wm_r, wm_g, wm_b = wm_image_resized.split()\n",
    "hr_r_mod, hr_g_mod, hr_b_mod = watermarked_image_resized.split()"
   ]
  },
  {
   "cell_type": "code",
   "execution_count": null,
   "metadata": {},
   "outputs": [],
   "source": [
    "# Convert channels to numpy arrays\n",
    "hr_r = np.array(hr_r)\n",
    "hr_g = np.array(hr_g)\n",
    "hr_b = np.array(hr_b)\n",
    "hr_r, hr_g, hr_b"
   ]
  },
  {
   "cell_type": "code",
   "execution_count": null,
   "metadata": {},
   "outputs": [],
   "source": [
    "wm_r = np.array(wm_r)\n",
    "wm_g = np.array(wm_g)\n",
    "wm_b = np.array(wm_b)\n",
    "wm_r, wm_g, wm_b"
   ]
  },
  {
   "cell_type": "code",
   "execution_count": null,
   "metadata": {},
   "outputs": [],
   "source": [
    "hr_r_mod = np.array(wm_r)\n",
    "hr_g_mod = np.array(wm_g)\n",
    "hr_b_mod = np.array(wm_b)\n",
    "hr_r_mod, hr_g_mod, hr_b_mod"
   ]
  },
  {
   "cell_type": "code",
   "execution_count": null,
   "metadata": {},
   "outputs": [],
   "source": [
    "### Extraction process"
   ]
  },
  {
   "cell_type": "code",
   "execution_count": null,
   "metadata": {},
   "outputs": [],
   "source": [
    "def extract_watermark(hr_mod_channel, hr_channel, wr_channel, alpha=0.6):\n",
    "    U_hr_mod, sigma_hr_mod, V_hr_mod = np.linalg.svd(\n",
    "        hr_mod_channel, full_matrices=False)\n",
    "    U_hr, sigma_hr, V_hr = np.linalg.svd(hr_channel, full_matrices=False)\n",
    "    U_wm, sigma_wm, V_wm = np.linalg.svd(wr_channel, full_matrices=False)\n",
    "\n",
    "    sigma_wm_mod = (sigma_hr_mod - sigma_hr) / alpha\n",
    "    wm_channel_mod = np.dot(U_wm, np.dot(np.diag(sigma_wm_mod), V_wm))\n",
    "\n",
    "    return wm_channel_mod"
   ]
  },
  {
   "cell_type": "markdown",
   "metadata": {},
   "source": [
    "### Extract watermark from each channel"
   ]
  },
  {
   "cell_type": "code",
   "execution_count": null,
   "metadata": {},
   "outputs": [],
   "source": [
    "wm_r_mod = extract_watermark(hr_r_mod, hr_r, wm_r)\n",
    "wm_g_mod = extract_watermark(hr_g_mod, hr_g, wm_g)\n",
    "wm_b_mod = extract_watermark(hr_b_mod, hr_b, wm_b)"
   ]
  },
  {
   "cell_type": "code",
   "execution_count": null,
   "metadata": {},
   "outputs": [],
   "source": [
    "# Normalize and convert to uint8\n",
    "wm_r_mod = cv2.normalize(wm_r_mod, None, 0, 255,\n",
    "                         cv2.NORM_MINMAX, dtype=cv2.CV_8U)\n",
    "wm_g_mod = cv2.normalize(wm_g_mod, None, 0, 255,\n",
    "                         cv2.NORM_MINMAX, dtype=cv2.CV_8U)\n",
    "wm_b_mod = cv2.normalize(wm_b_mod, None, 0, 255,\n",
    "                         cv2.NORM_MINMAX, dtype=cv2.CV_8U)\n",
    "wm_r_mod, wm_g_mod, wm_b_mod"
   ]
  },
  {
   "cell_type": "code",
   "execution_count": null,
   "metadata": {},
   "outputs": [],
   "source": [
    "# Merge extracted channels back into an RGB image\n",
    "extracted_watermark = Image.merge(\"RGB\", (Image.fromarray(\n",
    "    wm_r_mod), Image.fromarray(wm_g_mod), Image.fromarray(wm_b_mod)))\n",
    "extracted_watermark.save('watermark_output_image-1.png')\n",
    "extracted_watermark.show()"
   ]
  }
 ],
 "metadata": {
  "kernelspec": {
   "display_name": "Python 3",
   "language": "python",
   "name": "python3"
  },
  "language_info": {
   "codemirror_mode": {
    "name": "ipython",
    "version": 3
   },
   "file_extension": ".py",
   "mimetype": "text/x-python",
   "name": "python",
   "nbconvert_exporter": "python",
   "pygments_lexer": "ipython3",
   "version": "3.11.5"
  },
  "orig_nbformat": 4
 },
 "nbformat": 4,
 "nbformat_minor": 2
}
