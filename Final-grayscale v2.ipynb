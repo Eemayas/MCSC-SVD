{
 "cells": [
  {
   "cell_type": "markdown",
   "metadata": {},
   "source": [
    "# Watermark Embedding and Extraction "
   ]
  },
  {
   "cell_type": "markdown",
   "metadata": {},
   "source": [
    "This notebook covers the embedding and extraction of watermarks in images using Singular Value Decomposition (SVD). It includes loading images, resizing, converting to grayscale, performing SVD operations, embedding the watermark, and extracting it."
   ]
  },
  {
   "attachments": {},
   "cell_type": "markdown",
   "metadata": {},
   "source": [
    "## Embedding Watermark\n"
   ]
  },
  {
   "cell_type": "markdown",
   "metadata": {},
   "source": [
    "This section describes the process of embedding a watermark into a host image using Singular Value Decomposition (SVD). We will go through the steps of loading the images, resizing and converting them to grayscale, performing SVD, embedding the watermark, and saving the watermarked image."
   ]
  },
  {
   "cell_type": "code",
   "execution_count": 1,
   "metadata": {},
   "outputs": [],
   "source": [
    "from PIL import Image\n",
    "import numpy as np\n",
    "import cv2\n",
    "from tqdm import tqdm"
   ]
  },
  {
   "cell_type": "markdown",
   "metadata": {},
   "source": [
    "### Load the host and watermark images"
   ]
  },
  {
   "cell_type": "markdown",
   "metadata": {},
   "source": [
    "We start by loading the host image and the watermark image. These images will be used for the embedding process."
   ]
  },
  {
   "cell_type": "code",
   "execution_count": 2,
   "metadata": {},
   "outputs": [],
   "source": [
    "hr_image =  Image.open(\"./images/inputs/host_image.jpg\")\n",
    "wm_image =  Image.open(\"./images/inputs/watermark_image.jpg\")"
   ]
  },
  {
   "cell_type": "markdown",
   "metadata": {},
   "source": [
    "### Resize and Convert Images to Grayscale"
   ]
  },
  {
   "cell_type": "markdown",
   "metadata": {},
   "source": [
    "Resize the watermark image to match the host image size and convert both images to grayscale."
   ]
  },
  {
   "cell_type": "code",
   "execution_count": 3,
   "metadata": {},
   "outputs": [],
   "source": [
    "# Resize the watermark image to the same size as the host image\n",
    "wm_image_resized = wm_image.resize(hr_image.size)\n",
    "\n",
    "# Convert both images to grayscale\n",
    "hr_image = hr_image.convert(\"L\")\n",
    "wm_image = wm_image_resized.convert(\"L\")"
   ]
  },
  {
   "cell_type": "markdown",
   "metadata": {},
   "source": [
    "### Convert Images to Numpy Arrays"
   ]
  },
  {
   "cell_type": "markdown",
   "metadata": {},
   "source": [
    "Convert the grayscale images to numpy arrays for processing."
   ]
  },
  {
   "cell_type": "code",
   "execution_count": 4,
   "metadata": {},
   "outputs": [],
   "source": [
    "# Convert channels to numpy arrays\n",
    "hr_image = np.array(hr_image)\n",
    "wm_image = np.array(wm_image)\n",
    "# hr_image,wm_image"
   ]
  },
  {
   "cell_type": "markdown",
   "metadata": {},
   "source": [
    "### Function to Apply SVD and Modify Singular Values\n"
   ]
  },
  {
   "cell_type": "markdown",
   "metadata": {},
   "source": [
    "This function applies Singular Value Decomposition (SVD) to both the host and watermark images, modifies the singular values of the host image by adding a scaled version of the watermark's singular values, and reconstructs the host image with the embedded watermark."
   ]
  },
  {
   "cell_type": "code",
   "execution_count": 5,
   "metadata": {},
   "outputs": [],
   "source": [
    "def embed_watermark(hr_channel, wm_channel, alpha=0.6):\n",
    "    with tqdm(total=100, desc=\"Embedding Watermark\", bar_format=\"{l_bar}{bar} [ time left: {remaining} ]\") as pbar:\n",
    "        U_hr, sigma_hr, V_hr = np.linalg.svd(hr_channel)\n",
    "        pbar.update(40)\n",
    "\n",
    "        U_wm, sigma_wm, V_wm = np.linalg.svd(wm_channel)\n",
    "        pbar.update(40)\n",
    "\n",
    "        sigma_hr_mod = sigma_hr + alpha * sigma_wm\n",
    "        hr_channel_mod = np.dot(U_hr[:, :sigma_hr_mod.shape[0]], np.dot(\n",
    "            np.diag(sigma_hr_mod), V_hr[:sigma_hr_mod.shape[0], :]))\n",
    "        pbar.update(20)\n",
    "\n",
    "    return hr_channel_mod"
   ]
  },
  {
   "cell_type": "markdown",
   "metadata": {},
   "source": [
    "### Embed Watermark\n"
   ]
  },
  {
   "cell_type": "markdown",
   "metadata": {},
   "source": [
    "Embed the watermark into the host image by calling the `embed_watermark` function and save the watermarked image."
   ]
  },
  {
   "cell_type": "code",
   "execution_count": 6,
   "metadata": {},
   "outputs": [
    {
     "name": "stderr",
     "output_type": "stream",
     "text": [
      "Embedding Watermark: 100%|██████████ [ time left: 00:00 ]\n"
     ]
    }
   ],
   "source": [
    "hr_image_mod = embed_watermark(hr_image, wm_image)"
   ]
  },
  {
   "cell_type": "markdown",
   "metadata": {},
   "source": [
    "### Normalize and Convert to uint8"
   ]
  },
  {
   "cell_type": "markdown",
   "metadata": {},
   "source": [
    "Normalize the modified image and convert it to an 8-bit unsigned integer format for proper display and storage."
   ]
  },
  {
   "cell_type": "code",
   "execution_count": 7,
   "metadata": {},
   "outputs": [],
   "source": [
    "# Normalize and convert to uint8\n",
    "hr_image_mod = cv2.normalize(hr_image_mod, None, 0, 255,\n",
    "                         cv2.NORM_MINMAX, dtype=cv2.CV_8U)\n",
    "# hr_image_mod"
   ]
  },
  {
   "cell_type": "markdown",
   "metadata": {},
   "source": [
    "### Display and Save the Watermarked Image"
   ]
  },
  {
   "cell_type": "markdown",
   "metadata": {},
   "source": [
    "Display the watermarked image and save it as `watermarked_image_grayscale.png`."
   ]
  },
  {
   "cell_type": "code",
   "execution_count": 8,
   "metadata": {},
   "outputs": [],
   "source": [
    "watermarked_image_grayscale = Image.fromarray(hr_image_mod)\n",
    "watermarked_image_grayscale.show()\n",
    "watermarked_image_grayscale.save('./images/outputs/watermarked_image_grayscale.png')"
   ]
  },
  {
   "cell_type": "markdown",
   "metadata": {},
   "source": [
    "## Extracting Watermark\n"
   ]
  },
  {
   "cell_type": "markdown",
   "metadata": {},
   "source": [
    "The watermark is extracted from the watermarked image by reversing the embedding process."
   ]
  },
  {
   "cell_type": "code",
   "execution_count": 9,
   "metadata": {},
   "outputs": [],
   "source": [
    "from PIL import Image\n",
    "import numpy as np\n",
    "import cv2"
   ]
  },
  {
   "cell_type": "markdown",
   "metadata": {},
   "source": [
    "### Load the Host, Watermark, and Watermarked Images"
   ]
  },
  {
   "cell_type": "markdown",
   "metadata": {},
   "source": [
    "Load the original host image, the original watermark image, and the watermarked image from which the watermark will be extracted."
   ]
  },
  {
   "cell_type": "code",
   "execution_count": 10,
   "metadata": {},
   "outputs": [],
   "source": [
    "hr_image = Image.open(\"./images/inputs/host_image.jpg\")\n",
    "wm_image = Image.open(\"./images/inputs/watermark_image.jpg\")\n",
    "watermarked_image = Image.open(\"./images/outputs/watermarked_image_grayscale.png\")"
   ]
  },
  {
   "cell_type": "markdown",
   "metadata": {},
   "source": [
    "### Resize and Convert Images to Grayscale"
   ]
  },
  {
   "cell_type": "markdown",
   "metadata": {},
   "source": [
    "Resize the watermark and watermarked images to match the host image size, and convert all images to grayscale for extraction.\n"
   ]
  },
  {
   "cell_type": "code",
   "execution_count": 11,
   "metadata": {},
   "outputs": [],
   "source": [
    "# Resize the watermark image to the same size as the host image\n",
    "wm_image_resized = wm_image.resize(hr_image.size)\n",
    "watermarked_image_resized = watermarked_image.resize(hr_image.size)\n",
    "\n",
    "# Convert images to RGB (if not already in that mode)\n",
    "hr_image = hr_image.convert(\"L\")\n",
    "wm_image_resized = wm_image_resized.convert(\"L\")\n",
    "watermarked_image_resized = watermarked_image_resized.convert(\"L\")"
   ]
  },
  {
   "cell_type": "markdown",
   "metadata": {},
   "source": [
    "### Convert Images to Numpy Arrays"
   ]
  },
  {
   "cell_type": "markdown",
   "metadata": {},
   "source": [
    "Convert the images to numpy arrays for processing during watermark extraction."
   ]
  },
  {
   "cell_type": "code",
   "execution_count": 12,
   "metadata": {},
   "outputs": [],
   "source": [
    "# Convert channels to numpy arrays\n",
    "hr_image = np.array(hr_image)\n",
    "wm_image = np.array(wm_image_resized)\n",
    "watermarked_image = np.array(watermarked_image_resized)\n",
    "# hr_image,wm_image,watermarked_image"
   ]
  },
  {
   "cell_type": "markdown",
   "metadata": {},
   "source": [
    "### Extraction Process"
   ]
  },
  {
   "cell_type": "markdown",
   "metadata": {},
   "source": [
    "Perform SVD on the watermarked image and the host image, calculate the difference in singular values, and reconstruct the watermark."
   ]
  },
  {
   "cell_type": "code",
   "execution_count": 13,
   "metadata": {},
   "outputs": [],
   "source": [
    "def extract_watermark(hr_mod_channel, hr_channel, wr_channel, alpha=0.6):\n",
    "    with tqdm(total=100, desc=\"Extracting Watermark\", bar_format=\"{l_bar}{bar} [ time left: {remaining} ]\") as pbar:\n",
    "        U_hr_mod, sigma_hr_mod, V_hr_mod = np.linalg.svd(hr_mod_channel, full_matrices=False)\n",
    "        pbar.update(30)\n",
    "\n",
    "        U_hr, sigma_hr, V_hr = np.linalg.svd(hr_channel, full_matrices=False)\n",
    "        pbar.update(30)\n",
    "\n",
    "        U_wm, sigma_wm, V_wm = np.linalg.svd(wr_channel, full_matrices=False)\n",
    "        pbar.update(30)\n",
    "\n",
    "        sigma_wm_mod = (sigma_hr_mod - sigma_hr) / alpha\n",
    "        wm_channel_mod = np.dot(U_wm, np.dot(np.diag(sigma_wm_mod), V_wm))\n",
    "        pbar.update(10)\n",
    "\n",
    "    return wm_channel_mod"
   ]
  },
  {
   "cell_type": "markdown",
   "metadata": {},
   "source": [
    "### Extract Watermark"
   ]
  },
  {
   "cell_type": "markdown",
   "metadata": {},
   "source": [
    "Extract the watermark from the watermarked image by calling the `extract_watermark` function and save the result."
   ]
  },
  {
   "cell_type": "code",
   "execution_count": 14,
   "metadata": {},
   "outputs": [
    {
     "name": "stderr",
     "output_type": "stream",
     "text": [
      "Extracting Watermark: 100%|██████████ [ time left: 00:00 ]\n"
     ]
    }
   ],
   "source": [
    "wm_extracted = extract_watermark(watermarked_image, hr_image, wm_image)"
   ]
  },
  {
   "cell_type": "markdown",
   "metadata": {},
   "source": [
    "### Normalize and Convert to uint8"
   ]
  },
  {
   "cell_type": "markdown",
   "metadata": {},
   "source": [
    "Normalize the extracted watermark and convert it to an 8-bit unsigned integer format for display and storage."
   ]
  },
  {
   "cell_type": "code",
   "execution_count": 15,
   "metadata": {},
   "outputs": [],
   "source": [
    "# Normalize and convert to uint8\n",
    "wm_extracted = cv2.normalize(wm_extracted, None, 0, 255,\n",
    "                         cv2.NORM_MINMAX, dtype=cv2.CV_8U)\n",
    "# wm_extracted"
   ]
  },
  {
   "cell_type": "markdown",
   "metadata": {},
   "source": [
    "### Display and Save the extracted Watermark Image"
   ]
  },
  {
   "cell_type": "markdown",
   "metadata": {},
   "source": [
    "Display the extracted watermark image and save it as `extracted_watermark_image_grascale.png`."
   ]
  },
  {
   "cell_type": "code",
   "execution_count": 16,
   "metadata": {},
   "outputs": [],
   "source": [
    "# Merge extracted channels back into an RGB image\n",
    "extracted_watermark =Image.fromarray(wm_extracted)\n",
    "extracted_watermark.save('./images/outputs/extracted_watermark_image_grascale.png')\n",
    "extracted_watermark.show()"
   ]
  }
 ],
 "metadata": {
  "kernelspec": {
   "display_name": "Python 3",
   "language": "python",
   "name": "python3"
  },
  "language_info": {
   "codemirror_mode": {
    "name": "ipython",
    "version": 3
   },
   "file_extension": ".py",
   "mimetype": "text/x-python",
   "name": "python",
   "nbconvert_exporter": "python",
   "pygments_lexer": "ipython3",
   "version": "3.11.5"
  },
  "orig_nbformat": 4
 },
 "nbformat": 4,
 "nbformat_minor": 2
}
